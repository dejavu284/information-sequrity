{
 "cells": [
  {
   "cell_type": "code",
   "execution_count": 8,
   "metadata": {},
   "outputs": [
    {
     "name": "stdout",
     "output_type": "stream",
     "text": [
      "Result is 6\n"
     ]
    }
   ],
   "source": [
    "from abc import ABC, abstractmethod\n",
    "\n",
    "class BaseStrategy(ABC):\n",
    "    @abstractmethod\n",
    "    def do_work(self, x, y):\n",
    "        pass\n",
    "\n",
    "class Adder(BaseStrategy):\n",
    "    def do_work(self, x, y):\n",
    "        return x + y\n",
    "\n",
    "class Multiplicator(BaseStrategy):\n",
    "    def do_work(self, x, y):\n",
    "        return x * y\n",
    "\n",
    "class Calculator:\n",
    "    def set_strategy(self, strategy: BaseStrategy):\n",
    "        self.strategy = strategy()\n",
    "\n",
    "    def calculate(self, x, y):\n",
    "        print('Result is', self.strategy.do_work(x, y))\n",
    "\n",
    "\n",
    "temp = Calculator()\n",
    "temp.set_strategy(Multiplicator)\n",
    "temp.calculate(2,3)"
   ]
  },
  {
   "cell_type": "code",
   "execution_count": null,
   "metadata": {},
   "outputs": [],
   "source": [
    "from .BaseCipher import BaseCipher\n",
    "\n",
    "class BitwiseCipher(BaseCipher):\n",
    "    def encode(self, text):\n",
    "        encoded = \"\"\n",
    "        for char in text:\n",
    "            char_code = ord(char)\n",
    "            left_byte = char_code >> 8\n",
    "            right_byte = char_code & 0xFF\n",
    "            encoded_char_code = ((left_byte ^ right_byte) << 8) | left_byte\n",
    "            encoded += chr(encoded_char_code)\n",
    "        return encoded\n",
    "\n",
    "    def decode(self, text):\n",
    "        decoded = \"\"\n",
    "        for char in text:\n",
    "            char_code = ord(char)\n",
    "            left_byte = char_code >> 8\n",
    "            right_byte = char_code & 0xFF\n",
    "            decoded_char_code = (right_byte << 8) | (left_byte ^ right_byte)\n",
    "            decoded += chr(decoded_char_code)\n",
    "        return decoded\n"
   ]
  },
  {
   "cell_type": "code",
   "execution_count": 26,
   "metadata": {},
   "outputs": [
    {
     "data": {
      "text/plain": [
       "64"
      ]
     },
     "execution_count": 26,
     "metadata": {},
     "output_type": "execute_result"
    }
   ],
   "source": [
    "ord('@')"
   ]
  },
  {
   "cell_type": "code",
   "execution_count": 39,
   "metadata": {},
   "outputs": [],
   "source": [
    "temp = 'А'\n",
    "temp_byte = ord(temp)"
   ]
  },
  {
   "cell_type": "code",
   "execution_count": 41,
   "metadata": {},
   "outputs": [
    {
     "name": "stdout",
     "output_type": "stream",
     "text": [
      "left: 4, right: 16\n",
      "left bin: 0b100, right bin: 0b10000\n"
     ]
    }
   ],
   "source": [
    "left_byte = temp_byte >> 8\n",
    "right_byte = temp_byte & 0xFF\n",
    "print(f'left: {left_byte}, right: {right_byte}')\n",
    "print(f'left bin: {bin(left_byte)}, right bin: {bin(right_byte)}')\n"
   ]
  },
  {
   "cell_type": "code",
   "execution_count": 58,
   "metadata": {},
   "outputs": [],
   "source": [
    "temp=[{'Символ': 1, \n",
    "'Код 10': 1, \n",
    "'Код 2': bin(1), \n",
    "'Левый байт': left_byte, \n",
    "'Правый байт': right_byte, \n",
    "'Код_ 10': 1,\n",
    "'Код_ 2': bin(1), \n",
    "'Символ_': 1},\n",
    "{'Символ': 1, \n",
    "'Код 10': 1, \n",
    "'Код 2': bin(1), \n",
    "'Левый байт': left_byte, \n",
    "'Правый байт': right_byte, \n",
    "'Код_ 10': 1,\n",
    "'Код_ 2': bin(1), \n",
    "'Символ_': 1},]"
   ]
  },
  {
   "cell_type": "code",
   "execution_count": 60,
   "metadata": {},
   "outputs": [
    {
     "data": {
      "text/plain": [
       "[{'Символ': 1,\n",
       "  'Код 10': 1,\n",
       "  'Код 2': '0b1',\n",
       "  'Левый байт': 4,\n",
       "  'Правый байт': 16,\n",
       "  'Код_ 10': 1,\n",
       "  'Код_ 2': '0b1',\n",
       "  'Символ_': 1},\n",
       " {'Символ': 1,\n",
       "  'Код 10': 1,\n",
       "  'Код 2': '0b1',\n",
       "  'Левый байт': 4,\n",
       "  'Правый байт': 16,\n",
       "  'Код_ 10': 1,\n",
       "  'Код_ 2': '0b1',\n",
       "  'Символ_': 1}]"
      ]
     },
     "execution_count": 60,
     "metadata": {},
     "output_type": "execute_result"
    }
   ],
   "source": [
    "temp"
   ]
  },
  {
   "cell_type": "code",
   "execution_count": 61,
   "metadata": {},
   "outputs": [],
   "source": [
    "from collections import Counter"
   ]
  },
  {
   "cell_type": "code",
   "execution_count": 62,
   "metadata": {},
   "outputs": [
    {
     "data": {
      "text/plain": [
       "Counter({'п': 1, 'р': 2, 'и': 2, 'в': 1, 'е': 1, 'т': 1, ' ': 1, 'м': 1})"
      ]
     },
     "execution_count": 62,
     "metadata": {},
     "output_type": "execute_result"
    }
   ],
   "source": [
    "Counter('привет мир')"
   ]
  },
  {
   "cell_type": "code",
   "execution_count": 47,
   "metadata": {},
   "outputs": [
    {
     "name": "stdout",
     "output_type": "stream",
     "text": [
      "Закодированный символ:\n",
      "Код 10: 5124\n",
      "Код 2: 0b1010000000100\n",
      "Символ: ᐄ\n"
     ]
    }
   ],
   "source": [
    "encoded_char_code = ((left_byte ^ right_byte) << 8) | left_byte\n",
    "print(f'Закодированный символ:\\nКод 10: {encoded_char_code}\\nКод 2: {bin(encoded_char_code)}\\nСимвол: {chr(encoded_char_code)}')"
   ]
  },
  {
   "cell_type": "code",
   "execution_count": null,
   "metadata": {},
   "outputs": [],
   "source": []
  },
  {
   "cell_type": "code",
   "execution_count": 3,
   "metadata": {},
   "outputs": [
    {
     "ename": "TypeError",
     "evalue": "unsupported operand type(s) for /: 'str' and 'int'",
     "output_type": "error",
     "traceback": [
      "\u001b[1;31m---------------------------------------------------------------------------\u001b[0m",
      "\u001b[1;31mTypeError\u001b[0m                                 Traceback (most recent call last)",
      "Cell \u001b[1;32mIn[3], line 1\u001b[0m\n\u001b[1;32m----> 1\u001b[0m \u001b[38;5;124;43m'\u001b[39;49m\u001b[38;5;124;43mА|\u001b[39;49m\u001b[38;5;124;43m'\u001b[39;49m\u001b[38;5;241;43m/\u001b[39;49m\u001b[38;5;241;43m4\u001b[39;49m\n",
      "\u001b[1;31mTypeError\u001b[0m: unsupported operand type(s) for /: 'str' and 'int'"
     ]
    }
   ],
   "source": [
    "'А|'/4"
   ]
  },
  {
   "cell_type": "code",
   "execution_count": null,
   "metadata": {},
   "outputs": [],
   "source": []
  },
  {
   "cell_type": "code",
   "execution_count": 63,
   "metadata": {},
   "outputs": [],
   "source": [
    "from math import floor, sqrt\n",
    "\n",
    "class EuclidAlgorithm:\n",
    "    def __init__(self, a, b):\n",
    "        self.a = a\n",
    "        self.b = b\n",
    "\n",
    "    def calc(self):\n",
    "        raise NotImplementedError(\"This method should be overridden by subclasses\")\n",
    "\n",
    "\n",
    "class EuclidAlgorithmDecomposition(EuclidAlgorithm):\n",
    "    def __init__(self, a, b):\n",
    "        super().__init__(a, b)\n",
    "        self.count_iterations = 10000\n",
    "\n",
    "    def calc(self):\n",
    "        v1, v2, v3 = 1, 0, self.a\n",
    "        u1, u2, u3 = 0, 1, self.b\n",
    "        incript = 0\n",
    "\n",
    "        while v3 != 0 and incript < self.count_iterations:\n",
    "            q = floor(u3 / v3)\n",
    "            t1, t2, t3 = u1 - v1 * q, u2 - v2 * q, u3 - v3 * q\n",
    "            u1, u2, u3 = v1, v2, v3\n",
    "            v1, v2, v3 = t1, t2, t3\n",
    "            incript += 1\n",
    "\n",
    "        if incript >= self.count_iterations:\n",
    "            return \"Не удалось посчитать\"\n",
    "        else:\n",
    "            return f\"u1 = {u1}; u2 = {u2}; u3 = {u3};\"\n",
    "\n",
    "\n",
    "class EuclidAlgorithmFindInverseValue(EuclidAlgorithm):\n",
    "    def __init__(self, a, b):\n",
    "        super().__init__(a, b)\n",
    "        self.count_iterations = 20000\n",
    "\n",
    "    @staticmethod\n",
    "    def is_prime(number):\n",
    "        if number <= 1:\n",
    "            return False\n",
    "        if number == 2:\n",
    "            return True\n",
    "        if number % 2 == 0:\n",
    "            return False\n",
    "        for i in range(3, int(sqrt(number)) + 1, 2):\n",
    "            if number % i == 0:\n",
    "                return False\n",
    "        return True\n",
    "\n",
    "    def calc(self):\n",
    "        if self.is_prime(self.b):\n",
    "            return \"У числа нет обратного значения\"\n",
    "\n",
    "        simple_alg = EuclidAlgorithmFindLCD(self.a, self.b)\n",
    "        if simple_alg.calc_digit() != 1:\n",
    "            return \"У числа нет обратного значения\"\n",
    "\n",
    "        v1, v2, v3 = 1, 0, self.a\n",
    "        u1, u2, u3 = 0, 1, self.b\n",
    "        incript = 0\n",
    "\n",
    "        while u3 != 1 and incript < self.count_iterations:\n",
    "            q = floor(u3 / v3)\n",
    "            t1, t2, t3 = u1 - v1 * q, u2 - v2 * q, u3 - v3 * q\n",
    "            u1, u2, u3 = v1, v2, v3\n",
    "            v1, v2, v3 = t1, t2, t3\n",
    "            incript += 1\n",
    "\n",
    "        if incript >= self.count_iterations:\n",
    "            return \"Не удалось посчитать\"\n",
    "        else:\n",
    "            return f\"a^-1 = {u1 if u1 > 0 else self.b + u1}\"\n",
    "\n",
    "\n",
    "class EuclidAlgorithmFindLCD(EuclidAlgorithm):\n",
    "    def calc(self):\n",
    "        remains, previous_remains = self.b, None\n",
    "        divisible, divider = self.a, self.b\n",
    "        i = 0\n",
    "\n",
    "        while remains > 0 and i < 1000:\n",
    "            previous_remains = remains\n",
    "            remains = divisible % divider\n",
    "            divisible, divider = divider, remains\n",
    "            i += 1\n",
    "\n",
    "        if i >= 1000:\n",
    "            return \"Не удалось посчитать\"\n",
    "        return str(previous_remains)\n",
    "\n",
    "    def calc_digit(self):\n",
    "        remains, previous_remains = self.b, None\n",
    "        divisible, divider = self.a, self.b\n",
    "\n",
    "        while remains > 0:\n",
    "            previous_remains = remains\n",
    "            remains = divisible % divider\n",
    "            divisible, divider = divider, remains\n",
    "\n",
    "        return previous_remains\n"
   ]
  },
  {
   "cell_type": "code",
   "execution_count": 65,
   "metadata": {},
   "outputs": [
    {
     "name": "stdout",
     "output_type": "stream",
     "text": [
      "\n",
      "Нахождение НОД (наибольшего общего делителя):\n",
      "1\n",
      "Расширенный алгоритм Евклида (коэффициенты разложения):\n",
      "u1 = 9; u2 = -835; u3 = 1;\n",
      "\n",
      "Нахождение обратного значения (a^-1 mod n):\n",
      "У числа нет обратного значения\n"
     ]
    }
   ],
   "source": [
    "# Создаем экземпляры классов с заданными значениями A и B\n",
    "algorithm_lcd = EuclidAlgorithmFindLCD(2134, 23)\n",
    "algorithm_decomposition = EuclidAlgorithmDecomposition(2134, 23)\n",
    "algorithm_inverse_value = EuclidAlgorithmFindInverseValue(2134, 23)\n",
    "\n",
    "# Выполнение расчетов и вывод результатов\n",
    "print(\"\\nНахождение НОД (наибольшего общего делителя):\")\n",
    "print(algorithm_lcd.calc())\n",
    "\n",
    "print(\"Расширенный алгоритм Евклида (коэффициенты разложения):\")\n",
    "print(algorithm_decomposition.calc())\n",
    "\n",
    "print(\"\\nНахождение обратного значения (a^-1 mod n):\")\n",
    "print(algorithm_inverse_value.calc())\n",
    "\n"
   ]
  },
  {
   "cell_type": "code",
   "execution_count": 4,
   "metadata": {},
   "outputs": [],
   "source": [
    "temp = [str({'324': 'adsfasf'})]"
   ]
  },
  {
   "cell_type": "code",
   "execution_count": null,
   "metadata": {},
   "outputs": [],
   "source": []
  },
  {
   "cell_type": "code",
   "execution_count": null,
   "metadata": {},
   "outputs": [],
   "source": []
  },
  {
   "cell_type": "code",
   "execution_count": 5,
   "metadata": {},
   "outputs": [
    {
     "data": {
      "text/plain": [
       "\"{'324': 'adsfasf'}\""
      ]
     },
     "execution_count": 5,
     "metadata": {},
     "output_type": "execute_result"
    }
   ],
   "source": [
    "''.join(temp)"
   ]
  },
  {
   "cell_type": "code",
   "execution_count": null,
   "metadata": {},
   "outputs": [],
   "source": []
  },
  {
   "cell_type": "code",
   "execution_count": null,
   "metadata": {},
   "outputs": [],
   "source": []
  },
  {
   "cell_type": "code",
   "execution_count": 1,
   "metadata": {},
   "outputs": [
    {
     "ename": "TypeError",
     "evalue": "unsupported operand type(s) for -: 'str' and 'str'",
     "output_type": "error",
     "traceback": [
      "\u001b[1;31m---------------------------------------------------------------------------\u001b[0m",
      "\u001b[1;31mTypeError\u001b[0m                                 Traceback (most recent call last)",
      "Cell \u001b[1;32mIn[1], line 1\u001b[0m\n\u001b[1;32m----> 1\u001b[0m \u001b[38;5;124;43m'\u001b[39;49m\u001b[38;5;124;43ma\u001b[39;49m\u001b[38;5;124;43m'\u001b[39;49m\u001b[43m \u001b[49m\u001b[38;5;241;43m-\u001b[39;49m\u001b[43m \u001b[49m\u001b[38;5;124;43m'\u001b[39;49m\u001b[38;5;124;43mb\u001b[39;49m\u001b[38;5;124;43m'\u001b[39;49m\n",
      "\u001b[1;31mTypeError\u001b[0m: unsupported operand type(s) for -: 'str' and 'str'"
     ]
    }
   ],
   "source": [
    "'a' - 'b'"
   ]
  },
  {
   "cell_type": "code",
   "execution_count": 4,
   "metadata": {},
   "outputs": [
    {
     "data": {
      "text/plain": [
       "1072"
      ]
     },
     "execution_count": 4,
     "metadata": {},
     "output_type": "execute_result"
    }
   ],
   "source": [
    "ord('а')"
   ]
  },
  {
   "cell_type": "code",
   "execution_count": 6,
   "metadata": {},
   "outputs": [
    {
     "data": {
      "text/plain": [
       "(0, 31)"
      ]
     },
     "execution_count": 6,
     "metadata": {},
     "output_type": "execute_result"
    }
   ],
   "source": [
    "ord('а') - ord('а'), ord('я') - ord('а')"
   ]
  },
  {
   "cell_type": "code",
   "execution_count": 4,
   "metadata": {},
   "outputs": [
    {
     "data": {
      "text/plain": [
       "'б'"
      ]
     },
     "execution_count": 4,
     "metadata": {},
     "output_type": "execute_result"
    }
   ],
   "source": [
    "chr(1073)"
   ]
  },
  {
   "cell_type": "code",
   "execution_count": 10,
   "metadata": {},
   "outputs": [],
   "source": [
    "def get_char_list(list):\n",
    "    return ''.join([chr(x) for x in list])"
   ]
  },
  {
   "cell_type": "code",
   "execution_count": 11,
   "metadata": {},
   "outputs": [
    {
     "data": {
      "text/plain": [
       "'абв'"
      ]
     },
     "execution_count": 11,
     "metadata": {},
     "output_type": "execute_result"
    }
   ],
   "source": [
    "get_char_list([1072, 1073, 1074])"
   ]
  },
  {
   "cell_type": "code",
   "execution_count": 12,
   "metadata": {},
   "outputs": [],
   "source": [
    "def get_unicode_list_from_text(text):\n",
    "    return [ord(x) for x in text]"
   ]
  },
  {
   "cell_type": "code",
   "execution_count": 16,
   "metadata": {},
   "outputs": [],
   "source": [
    "text = 'абв где'"
   ]
  },
  {
   "cell_type": "code",
   "execution_count": 18,
   "metadata": {},
   "outputs": [
    {
     "data": {
      "text/plain": [
       "[1072, 1073, 1074]"
      ]
     },
     "execution_count": 18,
     "metadata": {},
     "output_type": "execute_result"
    }
   ],
   "source": [
    "words = text.split(' ')\n",
    "\n",
    "unicode_list = [get_unicode_list_from_text(x) for x in words]\n",
    "unicode_list"
   ]
  },
  {
   "cell_type": "code",
   "execution_count": 23,
   "metadata": {},
   "outputs": [],
   "source": [
    "def get_unicode_list_from_text(text):\n",
    "    return [ord(x) for x in text]\n",
    "\n",
    "def get_text_from_unicode( list):\n",
    "    return [chr(x) for x in list]\n",
    "\n",
    "def get_shift_unicode(list, shift):\n",
    "    return [x + int(shift) for x in list]"
   ]
  },
  {
   "cell_type": "code",
   "execution_count": 24,
   "metadata": {},
   "outputs": [],
   "source": [
    "words = text.split(' ')\n",
    "shift = 1\n"
   ]
  },
  {
   "cell_type": "code",
   "execution_count": 25,
   "metadata": {},
   "outputs": [
    {
     "data": {
      "text/plain": [
       "[[1072, 1073, 1074], [1075, 1076, 1077]]"
      ]
     },
     "execution_count": 25,
     "metadata": {},
     "output_type": "execute_result"
    }
   ],
   "source": [
    "unicode_list = [get_unicode_list_from_text(x) for x in words]\n",
    "unicode_list"
   ]
  },
  {
   "cell_type": "code",
   "execution_count": 27,
   "metadata": {},
   "outputs": [
    {
     "data": {
      "text/plain": [
       "[[1073, 1074, 1075], [1076, 1077, 1078]]"
      ]
     },
     "execution_count": 27,
     "metadata": {},
     "output_type": "execute_result"
    }
   ],
   "source": [
    "shift_unicode_list = [get_shift_unicode(x, shift) for x in unicode_list]\n",
    "shift_unicode_list"
   ]
  },
  {
   "cell_type": "code",
   "execution_count": 30,
   "metadata": {},
   "outputs": [
    {
     "data": {
      "text/plain": [
       "[['б', 'в', 'г'], ['д', 'е', 'ж']]"
      ]
     },
     "execution_count": 30,
     "metadata": {},
     "output_type": "execute_result"
    }
   ],
   "source": [
    "encoded_list = [get_text_from_unicode(x) for x in shift_unicode_list]\n",
    "encoded_list"
   ]
  },
  {
   "cell_type": "code",
   "execution_count": 32,
   "metadata": {},
   "outputs": [
    {
     "data": {
      "text/plain": [
       "'бвг деж'"
      ]
     },
     "execution_count": 32,
     "metadata": {},
     "output_type": "execute_result"
    }
   ],
   "source": [
    "' '.join([''.join(x) for x in encoded_list])"
   ]
  },
  {
   "cell_type": "code",
   "execution_count": null,
   "metadata": {},
   "outputs": [],
   "source": []
  },
  {
   "cell_type": "code",
   "execution_count": 1,
   "metadata": {},
   "outputs": [
    {
     "name": "stdout",
     "output_type": "stream",
     "text": [
      "Символ\tВероятность\n",
      "--------------------\n",
      "а\t0.0149\n",
      "б\t0.0000\n",
      "в\t0.0746\n",
      "г\t0.0000\n",
      "д\t0.0149\n",
      "е\t0.0896\n",
      "ё\t0.0000\n",
      "ж\t0.0000\n",
      "з\t0.0149\n",
      "и\t0.0597\n",
      "й\t0.0149\n",
      "к\t0.0448\n",
      "л\t0.0448\n",
      "м\t0.0448\n",
      "н\t0.0299\n",
      "о\t0.0746\n",
      "п\t0.0149\n",
      "р\t0.0597\n",
      "с\t0.0896\n",
      "т\t0.0597\n",
      "у\t0.0149\n",
      "ф\t0.0000\n",
      "х\t0.0000\n",
      "ц\t0.0000\n",
      "ч\t0.0149\n",
      "ш\t0.0000\n",
      "щ\t0.0000\n",
      "ъ\t0.0000\n",
      "ы\t0.0299\n",
      "ь\t0.0000\n",
      "э\t0.0000\n",
      "ю\t0.0000\n",
      "я\t0.0597\n"
     ]
    }
   ],
   "source": [
    "from collections import Counter\n",
    "\n",
    "def calculate_symbol_probabilities(text):\n",
    "    text = text.lower()  # Приводим текст к нижнему регистру для учета разных регистров\n",
    "    total_characters = len(text)\n",
    "    \n",
    "    # Создаем словарь для хранения частоты каждого символа\n",
    "    character_counts = Counter(text)\n",
    "    \n",
    "    # Вычисляем вероятность для каждого символа\n",
    "    probabilities = {char: count / total_characters for char, count in character_counts.items()}\n",
    "    \n",
    "    return probabilities\n",
    "\n",
    "# Пример использования\n",
    "if __name__ == \"__main__\":\n",
    "    russian_alphabet = \"абвгдеёжзийклмнопрстуфхцчшщъыьэюя\"\n",
    "    sample_text = \"Пример текста для вычисления вероятностей символов в русском языке.\"\n",
    "\n",
    "    # Создаем список вероятностей для символов русского алфавита\n",
    "    probabilities = calculate_symbol_probabilities(sample_text)\n",
    "\n",
    "    # Выводим результаты\n",
    "    print(\"Символ\\tВероятность\")\n",
    "    print(\"--------------------\")\n",
    "    for char in russian_alphabet:\n",
    "        print(f\"{char}\\t{probabilities.get(char, 0):.4f}\")\n"
   ]
  },
  {
   "cell_type": "code",
   "execution_count": 13,
   "metadata": {},
   "outputs": [
    {
     "name": "stdout",
     "output_type": "stream",
     "text": [
      "Collecting numpy\n",
      "  Downloading numpy-1.26.4-cp39-cp39-win_amd64.whl.metadata (61 kB)\n",
      "     ---------------------------------------- 0.0/61.0 kB ? eta -:--:--\n",
      "     ------------- -------------------------- 20.5/61.0 kB ? eta -:--:--\n",
      "     ------------- -------------------------- 20.5/61.0 kB ? eta -:--:--\n",
      "     ------------- -------------------------- 20.5/61.0 kB ? eta -:--:--\n",
      "     ------------- -------------------------- 20.5/61.0 kB ? eta -:--:--\n",
      "     ------------------------- ------------ 41.0/61.0 kB 164.3 kB/s eta 0:00:01\n",
      "     ------------------------- ------------ 41.0/61.0 kB 164.3 kB/s eta 0:00:01\n",
      "     ------------------------- ------------ 41.0/61.0 kB 164.3 kB/s eta 0:00:01\n",
      "     ------------------------- ------------ 41.0/61.0 kB 164.3 kB/s eta 0:00:01\n",
      "     ------------------------------- ------ 51.2/61.0 kB 104.8 kB/s eta 0:00:01\n",
      "     -------------------------------------- 61.0/61.0 kB 120.4 kB/s eta 0:00:00\n",
      "Downloading numpy-1.26.4-cp39-cp39-win_amd64.whl (15.8 MB)\n",
      "   ---------------------------------------- 0.0/15.8 MB ? eta -:--:--\n",
      "   ---------------------------------------- 0.0/15.8 MB 667.8 kB/s eta 0:00:24\n",
      "   ---------------------------------------- 0.0/15.8 MB 667.8 kB/s eta 0:00:24\n",
      "   ---------------------------------------- 0.0/15.8 MB 667.8 kB/s eta 0:00:24\n",
      "   ---------------------------------------- 0.0/15.8 MB 667.8 kB/s eta 0:00:24\n",
      "   ---------------------------------------- 0.0/15.8 MB 667.8 kB/s eta 0:00:24\n",
      "   ---------------------------------------- 0.1/15.8 MB 409.6 kB/s eta 0:00:39\n",
      "   ---------------------------------------- 0.1/15.8 MB 409.6 kB/s eta 0:00:39\n",
      "   ---------------------------------------- 0.1/15.8 MB 409.6 kB/s eta 0:00:39\n",
      "   ---------------------------------------- 0.1/15.8 MB 409.6 kB/s eta 0:00:39\n",
      "   ---------------------------------------- 0.1/15.8 MB 409.6 kB/s eta 0:00:39\n",
      "   ---------------------------------------- 0.2/15.8 MB 350.1 kB/s eta 0:00:45\n",
      "   ---------------------------------------- 0.2/15.8 MB 350.1 kB/s eta 0:00:45\n",
      "   ---------------------------------------- 0.2/15.8 MB 350.1 kB/s eta 0:00:45\n",
      "   ---------------------------------------- 0.2/15.8 MB 350.1 kB/s eta 0:00:45\n",
      "    --------------------------------------- 0.2/15.8 MB 327.9 kB/s eta 0:00:48\n",
      "    --------------------------------------- 0.2/15.8 MB 327.9 kB/s eta 0:00:48\n",
      "    --------------------------------------- 0.2/15.8 MB 327.9 kB/s eta 0:00:48\n",
      "    --------------------------------------- 0.2/15.8 MB 327.9 kB/s eta 0:00:48\n",
      "    --------------------------------------- 0.3/15.8 MB 333.7 kB/s eta 0:00:47\n",
      "    --------------------------------------- 0.3/15.8 MB 333.7 kB/s eta 0:00:47\n",
      "    --------------------------------------- 0.3/15.8 MB 333.7 kB/s eta 0:00:47\n",
      "    --------------------------------------- 0.3/15.8 MB 333.7 kB/s eta 0:00:47\n",
      "    --------------------------------------- 0.3/15.8 MB 333.7 kB/s eta 0:00:47\n",
      "    --------------------------------------- 0.4/15.8 MB 327.9 kB/s eta 0:00:48\n",
      "    --------------------------------------- 0.4/15.8 MB 327.9 kB/s eta 0:00:48\n",
      "    --------------------------------------- 0.4/15.8 MB 327.9 kB/s eta 0:00:48\n",
      "   - -------------------------------------- 0.5/15.8 MB 348.1 kB/s eta 0:00:45\n",
      "   - -------------------------------------- 0.5/15.8 MB 348.1 kB/s eta 0:00:45\n",
      "   - -------------------------------------- 0.5/15.8 MB 348.1 kB/s eta 0:00:45\n",
      "   - -------------------------------------- 0.5/15.8 MB 342.3 kB/s eta 0:00:45\n",
      "   - -------------------------------------- 0.5/15.8 MB 342.3 kB/s eta 0:00:45\n",
      "   - -------------------------------------- 0.5/15.8 MB 342.3 kB/s eta 0:00:45\n",
      "   - -------------------------------------- 0.6/15.8 MB 361.2 kB/s eta 0:00:43\n",
      "   - -------------------------------------- 0.6/15.8 MB 361.2 kB/s eta 0:00:43\n",
      "   - -------------------------------------- 0.6/15.8 MB 361.2 kB/s eta 0:00:43\n",
      "   - -------------------------------------- 0.6/15.8 MB 361.6 kB/s eta 0:00:43\n",
      "   - -------------------------------------- 0.6/15.8 MB 364.2 kB/s eta 0:00:42\n",
      "   - -------------------------------------- 0.7/15.8 MB 365.5 kB/s eta 0:00:42\n",
      "   - -------------------------------------- 0.7/15.8 MB 382.0 kB/s eta 0:00:40\n",
      "   - -------------------------------------- 0.7/15.8 MB 374.6 kB/s eta 0:00:41\n",
      "   - -------------------------------------- 0.7/15.8 MB 381.4 kB/s eta 0:00:40\n",
      "   - -------------------------------------- 0.8/15.8 MB 385.9 kB/s eta 0:00:40\n",
      "   - -------------------------------------- 0.8/15.8 MB 389.1 kB/s eta 0:00:39\n",
      "   -- ------------------------------------- 0.8/15.8 MB 395.4 kB/s eta 0:00:38\n",
      "   -- ------------------------------------- 0.8/15.8 MB 396.3 kB/s eta 0:00:38\n",
      "   -- ------------------------------------- 0.9/15.8 MB 403.0 kB/s eta 0:00:38\n",
      "   -- ------------------------------------- 0.9/15.8 MB 407.4 kB/s eta 0:00:37\n",
      "   -- ------------------------------------- 0.9/15.8 MB 407.9 kB/s eta 0:00:37\n",
      "   -- ------------------------------------- 1.0/15.8 MB 413.0 kB/s eta 0:00:36\n",
      "   -- ------------------------------------- 1.0/15.8 MB 416.3 kB/s eta 0:00:36\n",
      "   -- ------------------------------------- 1.0/15.8 MB 407.0 kB/s eta 0:00:37\n",
      "   -- ------------------------------------- 1.0/15.8 MB 423.0 kB/s eta 0:00:35\n",
      "   -- ------------------------------------- 1.0/15.8 MB 423.0 kB/s eta 0:00:35\n",
      "   -- ------------------------------------- 1.1/15.8 MB 423.4 kB/s eta 0:00:35\n",
      "   -- ------------------------------------- 1.1/15.8 MB 426.3 kB/s eta 0:00:35\n",
      "   -- ------------------------------------- 1.1/15.8 MB 420.0 kB/s eta 0:00:36\n",
      "   -- ------------------------------------- 1.1/15.8 MB 430.5 kB/s eta 0:00:35\n",
      "   -- ------------------------------------- 1.2/15.8 MB 426.8 kB/s eta 0:00:35\n",
      "   --- ------------------------------------ 1.2/15.8 MB 430.7 kB/s eta 0:00:34\n",
      "   --- ------------------------------------ 1.2/15.8 MB 433.3 kB/s eta 0:00:34\n",
      "   --- ------------------------------------ 1.2/15.8 MB 434.5 kB/s eta 0:00:34\n",
      "   --- ------------------------------------ 1.3/15.8 MB 434.5 kB/s eta 0:00:34\n",
      "   --- ------------------------------------ 1.3/15.8 MB 438.2 kB/s eta 0:00:34\n",
      "   --- ------------------------------------ 1.3/15.8 MB 440.4 kB/s eta 0:00:33\n",
      "   --- ------------------------------------ 1.4/15.8 MB 442.6 kB/s eta 0:00:33\n",
      "   --- ------------------------------------ 1.4/15.8 MB 445.8 kB/s eta 0:00:33\n",
      "   --- ------------------------------------ 1.4/15.8 MB 445.8 kB/s eta 0:00:33\n",
      "   --- ------------------------------------ 1.4/15.8 MB 446.8 kB/s eta 0:00:33\n",
      "   --- ------------------------------------ 1.4/15.8 MB 444.4 kB/s eta 0:00:33\n",
      "   --- ------------------------------------ 1.5/15.8 MB 447.4 kB/s eta 0:00:33\n",
      "   --- ------------------------------------ 1.5/15.8 MB 448.5 kB/s eta 0:00:32\n",
      "   --- ------------------------------------ 1.5/15.8 MB 450.3 kB/s eta 0:00:32\n",
      "   --- ------------------------------------ 1.5/15.8 MB 449.0 kB/s eta 0:00:32\n",
      "   --- ------------------------------------ 1.6/15.8 MB 449.9 kB/s eta 0:00:32\n",
      "   ---- ----------------------------------- 1.6/15.8 MB 455.6 kB/s eta 0:00:32\n",
      "   ---- ----------------------------------- 1.6/15.8 MB 454.5 kB/s eta 0:00:32\n",
      "   ---- ----------------------------------- 1.6/15.8 MB 453.1 kB/s eta 0:00:32\n",
      "   ---- ----------------------------------- 1.7/15.8 MB 458.8 kB/s eta 0:00:31\n",
      "   ---- ----------------------------------- 1.7/15.8 MB 458.8 kB/s eta 0:00:31\n",
      "   ---- ----------------------------------- 1.7/15.8 MB 457.2 kB/s eta 0:00:31\n",
      "   ---- ----------------------------------- 1.7/15.8 MB 456.0 kB/s eta 0:00:31\n",
      "   ---- ----------------------------------- 1.7/15.8 MB 454.0 kB/s eta 0:00:32\n",
      "   ---- ----------------------------------- 1.8/15.8 MB 456.4 kB/s eta 0:00:31\n",
      "   ---- ----------------------------------- 1.8/15.8 MB 458.0 kB/s eta 0:00:31\n",
      "   ---- ----------------------------------- 1.8/15.8 MB 458.5 kB/s eta 0:00:31\n",
      "   ---- ----------------------------------- 1.8/15.8 MB 460.1 kB/s eta 0:00:31\n",
      "   ---- ----------------------------------- 1.9/15.8 MB 460.6 kB/s eta 0:00:31\n",
      "   ---- ----------------------------------- 1.9/15.8 MB 466.4 kB/s eta 0:00:30\n",
      "   ---- ----------------------------------- 1.9/15.8 MB 461.7 kB/s eta 0:00:31\n",
      "   ---- ----------------------------------- 2.0/15.8 MB 467.1 kB/s eta 0:00:30\n",
      "   ---- ----------------------------------- 2.0/15.8 MB 467.1 kB/s eta 0:00:30\n",
      "   ----- ---------------------------------- 2.0/15.8 MB 465.8 kB/s eta 0:00:30\n",
      "   ----- ---------------------------------- 2.0/15.8 MB 467.8 kB/s eta 0:00:30\n",
      "   ----- ---------------------------------- 2.0/15.8 MB 467.5 kB/s eta 0:00:30\n",
      "   ----- ---------------------------------- 2.1/15.8 MB 469.5 kB/s eta 0:00:30\n",
      "   ----- ---------------------------------- 2.1/15.8 MB 469.8 kB/s eta 0:00:30\n",
      "   ----- ---------------------------------- 2.1/15.8 MB 469.8 kB/s eta 0:00:30\n",
      "   ----- ---------------------------------- 2.2/15.8 MB 472.3 kB/s eta 0:00:29\n",
      "   ----- ---------------------------------- 2.2/15.8 MB 471.4 kB/s eta 0:00:29\n",
      "   ----- ---------------------------------- 2.2/15.8 MB 472.9 kB/s eta 0:00:29\n",
      "   ----- ---------------------------------- 2.2/15.8 MB 475.7 kB/s eta 0:00:29\n",
      "   ----- ---------------------------------- 2.2/15.8 MB 470.0 kB/s eta 0:00:29\n",
      "   ----- ---------------------------------- 2.3/15.8 MB 477.6 kB/s eta 0:00:29\n",
      "   ----- ---------------------------------- 2.3/15.8 MB 477.6 kB/s eta 0:00:29\n",
      "   ----- ---------------------------------- 2.3/15.8 MB 474.7 kB/s eta 0:00:29\n",
      "   ----- ---------------------------------- 2.3/15.8 MB 477.4 kB/s eta 0:00:29\n",
      "   ----- ---------------------------------- 2.3/15.8 MB 477.4 kB/s eta 0:00:29\n",
      "   ------ --------------------------------- 2.4/15.8 MB 474.2 kB/s eta 0:00:29\n",
      "   ------ --------------------------------- 2.4/15.8 MB 476.3 kB/s eta 0:00:29\n",
      "   ------ --------------------------------- 2.4/15.8 MB 471.5 kB/s eta 0:00:29\n",
      "   ------ --------------------------------- 2.5/15.8 MB 478.6 kB/s eta 0:00:28\n",
      "   ------ --------------------------------- 2.5/15.8 MB 478.6 kB/s eta 0:00:28\n",
      "   ------ --------------------------------- 2.5/15.8 MB 474.6 kB/s eta 0:00:29\n",
      "   ------ --------------------------------- 2.5/15.8 MB 478.9 kB/s eta 0:00:28\n",
      "   ------ --------------------------------- 2.6/15.8 MB 475.8 kB/s eta 0:00:28\n",
      "   ------ --------------------------------- 2.6/15.8 MB 479.2 kB/s eta 0:00:28\n",
      "   ------ --------------------------------- 2.6/15.8 MB 479.2 kB/s eta 0:00:28\n",
      "   ------ --------------------------------- 2.6/15.8 MB 478.0 kB/s eta 0:00:28\n",
      "   ------ --------------------------------- 2.7/15.8 MB 481.4 kB/s eta 0:00:28\n",
      "   ------ --------------------------------- 2.7/15.8 MB 479.1 kB/s eta 0:00:28\n",
      "   ------ --------------------------------- 2.7/15.8 MB 481.5 kB/s eta 0:00:28\n",
      "   ------ --------------------------------- 2.7/15.8 MB 481.6 kB/s eta 0:00:28\n",
      "   ------ --------------------------------- 2.8/15.8 MB 483.0 kB/s eta 0:00:28\n",
      "   ------- -------------------------------- 2.8/15.8 MB 483.1 kB/s eta 0:00:27\n",
      "   ------- -------------------------------- 2.8/15.8 MB 482.8 kB/s eta 0:00:27\n",
      "   ------- -------------------------------- 2.8/15.8 MB 484.1 kB/s eta 0:00:27\n",
      "   ------- -------------------------------- 2.9/15.8 MB 486.3 kB/s eta 0:00:27\n",
      "   ------- -------------------------------- 2.9/15.8 MB 488.5 kB/s eta 0:00:27\n",
      "   ------- -------------------------------- 2.9/15.8 MB 486.4 kB/s eta 0:00:27\n",
      "   ------- -------------------------------- 3.0/15.8 MB 487.8 kB/s eta 0:00:27\n",
      "   ------- -------------------------------- 3.0/15.8 MB 489.9 kB/s eta 0:00:27\n",
      "   ------- -------------------------------- 3.0/15.8 MB 488.2 kB/s eta 0:00:27\n",
      "   ------- -------------------------------- 3.0/15.8 MB 489.5 kB/s eta 0:00:27\n",
      "   ------- -------------------------------- 3.0/15.8 MB 488.6 kB/s eta 0:00:27\n",
      "   ------- -------------------------------- 3.1/15.8 MB 490.7 kB/s eta 0:00:26\n",
      "   ------- -------------------------------- 3.1/15.8 MB 491.6 kB/s eta 0:00:26\n",
      "   ------- -------------------------------- 3.1/15.8 MB 491.5 kB/s eta 0:00:26\n",
      "   -------- ------------------------------- 3.2/15.8 MB 492.3 kB/s eta 0:00:26\n",
      "   -------- ------------------------------- 3.2/15.8 MB 492.4 kB/s eta 0:00:26\n",
      "   -------- ------------------------------- 3.2/15.8 MB 491.5 kB/s eta 0:00:26\n",
      "   -------- ------------------------------- 3.2/15.8 MB 491.2 kB/s eta 0:00:26\n",
      "   -------- ------------------------------- 3.3/15.8 MB 492.4 kB/s eta 0:00:26\n",
      "   -------- ------------------------------- 3.3/15.8 MB 493.1 kB/s eta 0:00:26\n",
      "   -------- ------------------------------- 3.3/15.8 MB 491.9 kB/s eta 0:00:26\n",
      "   -------- ------------------------------- 3.3/15.8 MB 493.9 kB/s eta 0:00:26\n",
      "   -------- ------------------------------- 3.4/15.8 MB 492.7 kB/s eta 0:00:26\n",
      "   -------- ------------------------------- 3.4/15.8 MB 493.8 kB/s eta 0:00:26\n",
      "   -------- ------------------------------- 3.4/15.8 MB 494.5 kB/s eta 0:00:26\n",
      "   -------- ------------------------------- 3.4/15.8 MB 494.5 kB/s eta 0:00:26\n",
      "   -------- ------------------------------- 3.5/15.8 MB 494.8 kB/s eta 0:00:25\n",
      "   -------- ------------------------------- 3.5/15.8 MB 495.2 kB/s eta 0:00:25\n",
      "   -------- ------------------------------- 3.5/15.8 MB 496.2 kB/s eta 0:00:25\n",
      "   -------- ------------------------------- 3.5/15.8 MB 495.5 kB/s eta 0:00:25\n",
      "   -------- ------------------------------- 3.6/15.8 MB 495.1 kB/s eta 0:00:25\n",
      "   --------- ------------------------------ 3.6/15.8 MB 497.3 kB/s eta 0:00:25\n",
      "   --------- ------------------------------ 3.6/15.8 MB 497.2 kB/s eta 0:00:25\n",
      "   --------- ------------------------------ 3.7/15.8 MB 498.6 kB/s eta 0:00:25\n",
      "   --------- ------------------------------ 3.7/15.8 MB 498.9 kB/s eta 0:00:25\n",
      "   --------- ------------------------------ 3.7/15.8 MB 498.5 kB/s eta 0:00:25\n",
      "   --------- ------------------------------ 3.7/15.8 MB 499.5 kB/s eta 0:00:25\n",
      "   --------- ------------------------------ 3.7/15.8 MB 499.4 kB/s eta 0:00:25\n",
      "   --------- ------------------------------ 3.8/15.8 MB 499.0 kB/s eta 0:00:25\n",
      "   --------- ------------------------------ 3.8/15.8 MB 500.0 kB/s eta 0:00:25\n",
      "   --------- ------------------------------ 3.8/15.8 MB 500.6 kB/s eta 0:00:24\n",
      "   --------- ------------------------------ 3.9/15.8 MB 500.6 kB/s eta 0:00:24\n",
      "   --------- ------------------------------ 3.9/15.8 MB 500.5 kB/s eta 0:00:24\n",
      "   --------- ------------------------------ 3.9/15.8 MB 500.5 kB/s eta 0:00:24\n",
      "   --------- ------------------------------ 3.9/15.8 MB 500.7 kB/s eta 0:00:24\n",
      "   --------- ------------------------------ 4.0/15.8 MB 502.7 kB/s eta 0:00:24\n",
      "   --------- ------------------------------ 4.0/15.8 MB 502.7 kB/s eta 0:00:24\n",
      "   ---------- ----------------------------- 4.0/15.8 MB 502.9 kB/s eta 0:00:24\n",
      "   ---------- ----------------------------- 4.0/15.8 MB 502.8 kB/s eta 0:00:24\n",
      "   ---------- ----------------------------- 4.1/15.8 MB 502.7 kB/s eta 0:00:24\n",
      "   ---------- ----------------------------- 4.1/15.8 MB 503.6 kB/s eta 0:00:24\n",
      "   ---------- ----------------------------- 4.1/15.8 MB 503.6 kB/s eta 0:00:24\n",
      "   ---------- ----------------------------- 4.1/15.8 MB 504.1 kB/s eta 0:00:24\n",
      "   ---------- ----------------------------- 4.2/15.8 MB 505.6 kB/s eta 0:00:24\n",
      "   ---------- ----------------------------- 4.2/15.8 MB 504.5 kB/s eta 0:00:24\n",
      "   ---------- ----------------------------- 4.2/15.8 MB 506.3 kB/s eta 0:00:23\n",
      "   ---------- ----------------------------- 4.2/15.8 MB 506.3 kB/s eta 0:00:23\n",
      "   ---------- ----------------------------- 4.2/15.8 MB 503.4 kB/s eta 0:00:23\n",
      "   ---------- ----------------------------- 4.3/15.8 MB 505.2 kB/s eta 0:00:23\n",
      "   ---------- ----------------------------- 4.3/15.8 MB 503.9 kB/s eta 0:00:23\n",
      "   ---------- ----------------------------- 4.3/15.8 MB 504.7 kB/s eta 0:00:23\n",
      "   ----------- ---------------------------- 4.4/15.8 MB 505.3 kB/s eta 0:00:23\n",
      "   ----------- ---------------------------- 4.4/15.8 MB 503.7 kB/s eta 0:00:23\n",
      "   ----------- ---------------------------- 4.4/15.8 MB 504.8 kB/s eta 0:00:23\n",
      "   ----------- ---------------------------- 4.4/15.8 MB 504.8 kB/s eta 0:00:23\n",
      "   ----------- ---------------------------- 4.4/15.8 MB 504.7 kB/s eta 0:00:23\n",
      "   ----------- ---------------------------- 4.5/15.8 MB 504.6 kB/s eta 0:00:23\n",
      "   ----------- ---------------------------- 4.5/15.8 MB 504.2 kB/s eta 0:00:23\n",
      "   ----------- ---------------------------- 4.5/15.8 MB 505.3 kB/s eta 0:00:23\n",
      "   ----------- ---------------------------- 4.5/15.8 MB 505.3 kB/s eta 0:00:23\n",
      "   ----------- ---------------------------- 4.6/15.8 MB 506.3 kB/s eta 0:00:23\n",
      "   ----------- ---------------------------- 4.6/15.8 MB 506.2 kB/s eta 0:00:23\n",
      "   ----------- ---------------------------- 4.6/15.8 MB 506.1 kB/s eta 0:00:23\n",
      "   ----------- ---------------------------- 4.6/15.8 MB 506.6 kB/s eta 0:00:23\n",
      "   ----------- ---------------------------- 4.7/15.8 MB 508.3 kB/s eta 0:00:22\n",
      "   ----------- ---------------------------- 4.7/15.8 MB 505.9 kB/s eta 0:00:22\n",
      "   ----------- ---------------------------- 4.7/15.8 MB 508.6 kB/s eta 0:00:22\n",
      "   ----------- ---------------------------- 4.7/15.8 MB 508.0 kB/s eta 0:00:22\n",
      "   ------------ --------------------------- 4.8/15.8 MB 507.7 kB/s eta 0:00:22\n",
      "   ------------ --------------------------- 4.8/15.8 MB 508.9 kB/s eta 0:00:22\n",
      "   ------------ --------------------------- 4.8/15.8 MB 507.5 kB/s eta 0:00:22\n",
      "   ------------ --------------------------- 4.9/15.8 MB 509.0 kB/s eta 0:00:22\n",
      "   ------------ --------------------------- 4.9/15.8 MB 509.5 kB/s eta 0:00:22\n",
      "   ------------ --------------------------- 4.9/15.8 MB 508.5 kB/s eta 0:00:22\n",
      "   ------------ --------------------------- 4.9/15.8 MB 509.3 kB/s eta 0:00:22\n",
      "   ------------ --------------------------- 5.0/15.8 MB 508.9 kB/s eta 0:00:22\n",
      "   ------------ --------------------------- 5.0/15.8 MB 508.6 kB/s eta 0:00:22\n",
      "   ------------ --------------------------- 5.0/15.8 MB 510.9 kB/s eta 0:00:22\n",
      "   ------------ --------------------------- 5.0/15.8 MB 508.7 kB/s eta 0:00:22\n",
      "   ------------ --------------------------- 5.1/15.8 MB 509.6 kB/s eta 0:00:22\n",
      "   ------------ --------------------------- 5.1/15.8 MB 509.9 kB/s eta 0:00:22\n",
      "   ------------ --------------------------- 5.1/15.8 MB 508.9 kB/s eta 0:00:22\n",
      "   ------------ --------------------------- 5.1/15.8 MB 508.9 kB/s eta 0:00:22\n",
      "   ------------- -------------------------- 5.2/15.8 MB 508.5 kB/s eta 0:00:21\n",
      "   ------------- -------------------------- 5.2/15.8 MB 509.7 kB/s eta 0:00:21\n",
      "   ------------- -------------------------- 5.2/15.8 MB 507.6 kB/s eta 0:00:21\n",
      "   ------------- -------------------------- 5.2/15.8 MB 510.3 kB/s eta 0:00:21\n",
      "   ------------- -------------------------- 5.2/15.8 MB 510.3 kB/s eta 0:00:21\n",
      "   ------------- -------------------------- 5.3/15.8 MB 508.6 kB/s eta 0:00:21\n",
      "   ------------- -------------------------- 5.3/15.8 MB 509.3 kB/s eta 0:00:21\n",
      "   ------------- -------------------------- 5.3/15.8 MB 509.0 kB/s eta 0:00:21\n",
      "   ------------- -------------------------- 5.3/15.8 MB 508.9 kB/s eta 0:00:21\n",
      "   ------------- -------------------------- 5.4/15.8 MB 509.1 kB/s eta 0:00:21\n",
      "   ------------- -------------------------- 5.4/15.8 MB 510.0 kB/s eta 0:00:21\n",
      "   ------------- -------------------------- 5.4/15.8 MB 510.6 kB/s eta 0:00:21\n",
      "   ------------- -------------------------- 5.4/15.8 MB 510.6 kB/s eta 0:00:21\n",
      "   ------------- -------------------------- 5.5/15.8 MB 510.2 kB/s eta 0:00:21\n",
      "   ------------- -------------------------- 5.5/15.8 MB 510.4 kB/s eta 0:00:21\n",
      "   ------------- -------------------------- 5.5/15.8 MB 509.5 kB/s eta 0:00:21\n",
      "   -------------- ------------------------- 5.6/15.8 MB 511.1 kB/s eta 0:00:21\n",
      "   -------------- ------------------------- 5.6/15.8 MB 511.1 kB/s eta 0:00:21\n",
      "   -------------- ------------------------- 5.6/15.8 MB 508.4 kB/s eta 0:00:21\n",
      "   -------------- ------------------------- 5.6/15.8 MB 511.6 kB/s eta 0:00:20\n",
      "   -------------- ------------------------- 5.6/15.8 MB 511.6 kB/s eta 0:00:20\n",
      "   -------------- ------------------------- 5.7/15.8 MB 509.3 kB/s eta 0:00:20\n",
      "   -------------- ------------------------- 5.7/15.8 MB 509.9 kB/s eta 0:00:20\n",
      "   -------------- ------------------------- 5.7/15.8 MB 508.9 kB/s eta 0:00:20\n",
      "   -------------- ------------------------- 5.7/15.8 MB 510.4 kB/s eta 0:00:20\n",
      "   -------------- ------------------------- 5.7/15.8 MB 510.4 kB/s eta 0:00:20\n",
      "   -------------- ------------------------- 5.8/15.8 MB 509.6 kB/s eta 0:00:20\n",
      "   -------------- ------------------------- 5.8/15.8 MB 510.2 kB/s eta 0:00:20\n",
      "   -------------- ------------------------- 5.8/15.8 MB 509.9 kB/s eta 0:00:20\n",
      "   -------------- ------------------------- 5.9/15.8 MB 510.5 kB/s eta 0:00:20\n",
      "   -------------- ------------------------- 5.9/15.8 MB 510.2 kB/s eta 0:00:20\n",
      "   -------------- ------------------------- 5.9/15.8 MB 510.8 kB/s eta 0:00:20\n",
      "   -------------- ------------------------- 5.9/15.8 MB 509.8 kB/s eta 0:00:20\n",
      "   --------------- ------------------------ 6.0/15.8 MB 511.8 kB/s eta 0:00:20\n",
      "   --------------- ------------------------ 6.0/15.8 MB 511.3 kB/s eta 0:00:20\n",
      "   --------------- ------------------------ 6.0/15.8 MB 510.7 kB/s eta 0:00:20\n",
      "   --------------- ------------------------ 6.0/15.8 MB 512.0 kB/s eta 0:00:20\n",
      "   --------------- ------------------------ 6.1/15.8 MB 510.8 kB/s eta 0:00:20\n",
      "   --------------- ------------------------ 6.1/15.8 MB 510.5 kB/s eta 0:00:20\n",
      "   --------------- ------------------------ 6.1/15.8 MB 511.1 kB/s eta 0:00:20\n",
      "   --------------- ------------------------ 6.1/15.8 MB 511.4 kB/s eta 0:00:19\n",
      "   --------------- ------------------------ 6.2/15.8 MB 511.4 kB/s eta 0:00:19\n",
      "   --------------- ------------------------ 6.2/15.8 MB 511.9 kB/s eta 0:00:19\n",
      "   --------------- ------------------------ 6.2/15.8 MB 512.3 kB/s eta 0:00:19\n",
      "   --------------- ------------------------ 6.2/15.8 MB 511.8 kB/s eta 0:00:19\n",
      "   --------------- ------------------------ 6.3/15.8 MB 512.5 kB/s eta 0:00:19\n",
      "   --------------- ------------------------ 6.3/15.8 MB 512.4 kB/s eta 0:00:19\n",
      "   --------------- ------------------------ 6.3/15.8 MB 512.0 kB/s eta 0:00:19\n",
      "   ---------------- ----------------------- 6.3/15.8 MB 512.7 kB/s eta 0:00:19\n",
      "   ---------------- ----------------------- 6.3/15.8 MB 512.9 kB/s eta 0:00:19\n",
      "   ---------------- ----------------------- 6.4/15.8 MB 512.8 kB/s eta 0:00:19\n",
      "   ---------------- ----------------------- 6.4/15.8 MB 514.1 kB/s eta 0:00:19\n",
      "   ---------------- ----------------------- 6.4/15.8 MB 512.4 kB/s eta 0:00:19\n",
      "   ---------------- ----------------------- 6.5/15.8 MB 513.4 kB/s eta 0:00:19\n",
      "   ---------------- ----------------------- 6.5/15.8 MB 511.2 kB/s eta 0:00:19\n",
      "   ---------------- ----------------------- 6.5/15.8 MB 512.4 kB/s eta 0:00:19\n",
      "   ---------------- ----------------------- 6.5/15.8 MB 512.5 kB/s eta 0:00:19\n",
      "   ---------------- ----------------------- 6.5/15.8 MB 512.4 kB/s eta 0:00:19\n",
      "   ---------------- ----------------------- 6.6/15.8 MB 513.1 kB/s eta 0:00:18\n",
      "   ---------------- ----------------------- 6.6/15.8 MB 512.7 kB/s eta 0:00:18\n",
      "   ---------------- ----------------------- 6.6/15.8 MB 513.0 kB/s eta 0:00:18\n",
      "   ---------------- ----------------------- 6.6/15.8 MB 512.3 kB/s eta 0:00:18\n",
      "   ---------------- ----------------------- 6.7/15.8 MB 513.4 kB/s eta 0:00:18\n",
      "   ---------------- ----------------------- 6.7/15.8 MB 512.5 kB/s eta 0:00:18\n",
      "   ----------------- ---------------------- 6.7/15.8 MB 513.1 kB/s eta 0:00:18\n",
      "   ----------------- ---------------------- 6.7/15.8 MB 514.0 kB/s eta 0:00:18\n",
      "   ----------------- ---------------------- 6.8/15.8 MB 512.9 kB/s eta 0:00:18\n",
      "   ----------------- ---------------------- 6.8/15.8 MB 512.2 kB/s eta 0:00:18\n",
      "   ----------------- ---------------------- 6.8/15.8 MB 513.5 kB/s eta 0:00:18\n",
      "   ----------------- ---------------------- 6.8/15.8 MB 513.7 kB/s eta 0:00:18\n",
      "   ----------------- ---------------------- 6.9/15.8 MB 513.0 kB/s eta 0:00:18\n",
      "   ----------------- ---------------------- 6.9/15.8 MB 514.8 kB/s eta 0:00:18\n",
      "   ----------------- ---------------------- 6.9/15.8 MB 513.2 kB/s eta 0:00:18\n",
      "   ----------------- ---------------------- 7.0/15.8 MB 514.3 kB/s eta 0:00:18\n",
      "   ----------------- ---------------------- 7.0/15.8 MB 515.2 kB/s eta 0:00:18\n",
      "   ----------------- ---------------------- 7.0/15.8 MB 515.3 kB/s eta 0:00:18\n",
      "   ----------------- ---------------------- 7.0/15.8 MB 515.6 kB/s eta 0:00:18\n",
      "   ----------------- ---------------------- 7.1/15.8 MB 514.9 kB/s eta 0:00:17\n",
      "   ----------------- ---------------------- 7.1/15.8 MB 515.4 kB/s eta 0:00:17\n",
      "   ----------------- ---------------------- 7.1/15.8 MB 515.4 kB/s eta 0:00:17\n",
      "   ------------------ --------------------- 7.1/15.8 MB 513.4 kB/s eta 0:00:17\n",
      "   ------------------ --------------------- 7.2/15.8 MB 515.3 kB/s eta 0:00:17\n",
      "   ------------------ --------------------- 7.2/15.8 MB 515.3 kB/s eta 0:00:17\n",
      "   ------------------ --------------------- 7.2/15.8 MB 514.6 kB/s eta 0:00:17\n",
      "   ------------------ --------------------- 7.2/15.8 MB 515.7 kB/s eta 0:00:17\n",
      "   ------------------ --------------------- 7.2/15.8 MB 515.7 kB/s eta 0:00:17\n",
      "   ------------------ --------------------- 7.3/15.8 MB 514.0 kB/s eta 0:00:17\n",
      "   ------------------ --------------------- 7.3/15.8 MB 515.4 kB/s eta 0:00:17\n",
      "   ------------------ --------------------- 7.3/15.8 MB 513.3 kB/s eta 0:00:17\n",
      "   ------------------ --------------------- 7.4/15.8 MB 516.1 kB/s eta 0:00:17\n",
      "   ------------------ --------------------- 7.4/15.8 MB 516.1 kB/s eta 0:00:17\n",
      "   ------------------ --------------------- 7.4/15.8 MB 515.5 kB/s eta 0:00:17\n",
      "   ------------------ --------------------- 7.4/15.8 MB 516.5 kB/s eta 0:00:17\n",
      "   ------------------ --------------------- 7.4/15.8 MB 516.5 kB/s eta 0:00:17\n",
      "   ------------------ --------------------- 7.4/15.8 MB 516.5 kB/s eta 0:00:17\n",
      "   ------------------ --------------------- 7.5/15.8 MB 513.4 kB/s eta 0:00:17\n",
      "   ------------------ --------------------- 7.5/15.8 MB 513.5 kB/s eta 0:00:17\n",
      "   ------------------- -------------------- 7.5/15.8 MB 513.8 kB/s eta 0:00:17\n",
      "   ------------------- -------------------- 7.5/15.8 MB 513.5 kB/s eta 0:00:17\n",
      "   ------------------- -------------------- 7.6/15.8 MB 514.5 kB/s eta 0:00:17\n",
      "   ------------------- -------------------- 7.6/15.8 MB 513.0 kB/s eta 0:00:17\n",
      "   ------------------- -------------------- 7.6/15.8 MB 514.2 kB/s eta 0:00:16\n",
      "   ------------------- -------------------- 7.6/15.8 MB 513.3 kB/s eta 0:00:16\n",
      "   ------------------- -------------------- 7.7/15.8 MB 514.5 kB/s eta 0:00:16\n",
      "   ------------------- -------------------- 7.7/15.8 MB 514.5 kB/s eta 0:00:16\n",
      "   ------------------- -------------------- 7.7/15.8 MB 514.7 kB/s eta 0:00:16\n",
      "   ------------------- -------------------- 7.7/15.8 MB 514.9 kB/s eta 0:00:16\n",
      "   ------------------- -------------------- 7.8/15.8 MB 514.1 kB/s eta 0:00:16\n",
      "   ------------------- -------------------- 7.8/15.8 MB 515.9 kB/s eta 0:00:16\n",
      "   ------------------- -------------------- 7.8/15.8 MB 515.9 kB/s eta 0:00:16\n",
      "   ------------------- -------------------- 7.8/15.8 MB 513.9 kB/s eta 0:00:16\n",
      "   ------------------- -------------------- 7.9/15.8 MB 515.7 kB/s eta 0:00:16\n",
      "   ------------------- -------------------- 7.9/15.8 MB 515.5 kB/s eta 0:00:16\n",
      "   ------------------- -------------------- 7.9/15.8 MB 514.0 kB/s eta 0:00:16\n",
      "   -------------------- ------------------- 7.9/15.8 MB 514.5 kB/s eta 0:00:16\n",
      "   -------------------- ------------------- 8.0/15.8 MB 514.9 kB/s eta 0:00:16\n",
      "   -------------------- ------------------- 8.0/15.8 MB 514.6 kB/s eta 0:00:16\n",
      "   -------------------- ------------------- 8.0/15.8 MB 515.1 kB/s eta 0:00:16\n",
      "   -------------------- ------------------- 8.0/15.8 MB 515.4 kB/s eta 0:00:16\n",
      "   -------------------- ------------------- 8.1/15.8 MB 515.3 kB/s eta 0:00:16\n",
      "   -------------------- ------------------- 8.1/15.8 MB 515.3 kB/s eta 0:00:16\n",
      "   -------------------- ------------------- 8.1/15.8 MB 513.9 kB/s eta 0:00:16\n",
      "   -------------------- ------------------- 8.1/15.8 MB 512.6 kB/s eta 0:00:16\n",
      "   -------------------- ------------------- 8.2/15.8 MB 514.3 kB/s eta 0:00:15\n",
      "   -------------------- ------------------- 8.2/15.8 MB 514.3 kB/s eta 0:00:15\n",
      "   -------------------- ------------------- 8.2/15.8 MB 513.4 kB/s eta 0:00:15\n",
      "   -------------------- ------------------- 8.2/15.8 MB 513.7 kB/s eta 0:00:15\n",
      "   -------------------- ------------------- 8.2/15.8 MB 513.4 kB/s eta 0:00:15\n",
      "   -------------------- ------------------- 8.3/15.8 MB 513.8 kB/s eta 0:00:15\n",
      "   -------------------- ------------------- 8.3/15.8 MB 514.6 kB/s eta 0:00:15\n",
      "   --------------------- ------------------ 8.3/15.8 MB 514.0 kB/s eta 0:00:15\n",
      "   --------------------- ------------------ 8.3/15.8 MB 514.9 kB/s eta 0:00:15\n",
      "   --------------------- ------------------ 8.4/15.8 MB 514.2 kB/s eta 0:00:15\n",
      "   --------------------- ------------------ 8.4/15.8 MB 514.6 kB/s eta 0:00:15\n",
      "   --------------------- ------------------ 8.4/15.8 MB 514.9 kB/s eta 0:00:15\n",
      "   --------------------- ------------------ 8.4/15.8 MB 514.2 kB/s eta 0:00:15\n",
      "   --------------------- ------------------ 8.4/15.8 MB 513.8 kB/s eta 0:00:15\n",
      "   --------------------- ------------------ 8.5/15.8 MB 515.3 kB/s eta 0:00:15\n",
      "   --------------------- ------------------ 8.5/15.8 MB 514.5 kB/s eta 0:00:15\n",
      "   --------------------- ------------------ 8.6/15.8 MB 515.6 kB/s eta 0:00:15\n",
      "   --------------------- ------------------ 8.6/15.8 MB 514.9 kB/s eta 0:00:15\n",
      "   --------------------- ------------------ 8.6/15.8 MB 515.3 kB/s eta 0:00:14\n",
      "   --------------------- ------------------ 8.6/15.8 MB 515.5 kB/s eta 0:00:14\n",
      "   --------------------- ------------------ 8.6/15.8 MB 514.3 kB/s eta 0:00:14\n",
      "   --------------------- ------------------ 8.7/15.8 MB 515.9 kB/s eta 0:00:14\n",
      "   --------------------- ------------------ 8.7/15.8 MB 515.9 kB/s eta 0:00:14\n",
      "   ---------------------- ----------------- 8.7/15.8 MB 514.8 kB/s eta 0:00:14\n",
      "   ---------------------- ----------------- 8.7/15.8 MB 516.2 kB/s eta 0:00:14\n",
      "   ---------------------- ----------------- 8.8/15.8 MB 515.0 kB/s eta 0:00:14\n",
      "   ---------------------- ----------------- 8.8/15.8 MB 515.9 kB/s eta 0:00:14\n",
      "   ---------------------- ----------------- 8.8/15.8 MB 515.9 kB/s eta 0:00:14\n",
      "   ---------------------- ----------------- 8.9/15.8 MB 516.2 kB/s eta 0:00:14\n",
      "   ---------------------- ----------------- 8.9/15.8 MB 516.2 kB/s eta 0:00:14\n",
      "   ---------------------- ----------------- 8.9/15.8 MB 515.0 kB/s eta 0:00:14\n",
      "   ---------------------- ----------------- 8.9/15.8 MB 515.9 kB/s eta 0:00:14\n",
      "   ---------------------- ----------------- 8.9/15.8 MB 515.2 kB/s eta 0:00:14\n",
      "   ---------------------- ----------------- 9.0/15.8 MB 516.0 kB/s eta 0:00:14\n",
      "   ---------------------- ----------------- 9.0/15.8 MB 514.9 kB/s eta 0:00:14\n",
      "   ---------------------- ----------------- 9.0/15.8 MB 516.3 kB/s eta 0:00:14\n",
      "   ---------------------- ----------------- 9.0/15.8 MB 515.7 kB/s eta 0:00:14\n",
      "   ---------------------- ----------------- 9.1/15.8 MB 515.3 kB/s eta 0:00:14\n",
      "   ---------------------- ----------------- 9.1/15.8 MB 515.7 kB/s eta 0:00:14\n",
      "   ----------------------- ---------------- 9.1/15.8 MB 515.9 kB/s eta 0:00:14\n",
      "   ----------------------- ---------------- 9.1/15.8 MB 515.9 kB/s eta 0:00:13\n",
      "   ----------------------- ---------------- 9.2/15.8 MB 516.7 kB/s eta 0:00:13\n",
      "   ----------------------- ---------------- 9.2/15.8 MB 516.0 kB/s eta 0:00:13\n",
      "   ----------------------- ---------------- 9.2/15.8 MB 516.0 kB/s eta 0:00:13\n",
      "   ----------------------- ---------------- 9.2/15.8 MB 515.0 kB/s eta 0:00:13\n",
      "   ----------------------- ---------------- 9.2/15.8 MB 515.8 kB/s eta 0:00:13\n",
      "   ----------------------- ---------------- 9.3/15.8 MB 515.6 kB/s eta 0:00:13\n",
      "   ----------------------- ---------------- 9.3/15.8 MB 516.0 kB/s eta 0:00:13\n",
      "   ----------------------- ---------------- 9.3/15.8 MB 515.3 kB/s eta 0:00:13\n",
      "   ----------------------- ---------------- 9.3/15.8 MB 516.2 kB/s eta 0:00:13\n",
      "   ----------------------- ---------------- 9.4/15.8 MB 516.4 kB/s eta 0:00:13\n",
      "   ----------------------- ---------------- 9.4/15.8 MB 516.3 kB/s eta 0:00:13\n",
      "   ----------------------- ---------------- 9.4/15.8 MB 516.0 kB/s eta 0:00:13\n",
      "   ----------------------- ---------------- 9.5/15.8 MB 516.0 kB/s eta 0:00:13\n",
      "   ----------------------- ---------------- 9.5/15.8 MB 516.1 kB/s eta 0:00:13\n",
      "   ------------------------ --------------- 9.5/15.8 MB 516.0 kB/s eta 0:00:13\n",
      "   ------------------------ --------------- 9.5/15.8 MB 516.0 kB/s eta 0:00:13\n",
      "   ------------------------ --------------- 9.5/15.8 MB 515.7 kB/s eta 0:00:13\n",
      "   ------------------------ --------------- 9.6/15.8 MB 516.1 kB/s eta 0:00:13\n",
      "   ------------------------ --------------- 9.6/15.8 MB 516.5 kB/s eta 0:00:13\n",
      "   ------------------------ --------------- 9.6/15.8 MB 516.2 kB/s eta 0:00:13\n",
      "   ------------------------ --------------- 9.6/15.8 MB 516.4 kB/s eta 0:00:12\n",
      "   ------------------------ --------------- 9.7/15.8 MB 515.9 kB/s eta 0:00:12\n",
      "   ------------------------ --------------- 9.7/15.8 MB 516.2 kB/s eta 0:00:12\n",
      "   ------------------------ --------------- 9.7/15.8 MB 516.2 kB/s eta 0:00:12\n",
      "   ------------------------ --------------- 9.7/15.8 MB 515.8 kB/s eta 0:00:12\n",
      "   ------------------------ --------------- 9.7/15.8 MB 515.1 kB/s eta 0:00:12\n",
      "   ------------------------ --------------- 9.8/15.8 MB 515.4 kB/s eta 0:00:12\n",
      "   ------------------------ --------------- 9.8/15.8 MB 514.7 kB/s eta 0:00:12\n",
      "   ------------------------ --------------- 9.8/15.8 MB 516.0 kB/s eta 0:00:12\n",
      "   ------------------------ --------------- 9.8/15.8 MB 515.3 kB/s eta 0:00:12\n",
      "   ------------------------ --------------- 9.9/15.8 MB 515.5 kB/s eta 0:00:12\n",
      "   ------------------------- -------------- 9.9/15.8 MB 515.4 kB/s eta 0:00:12\n",
      "   ------------------------- -------------- 9.9/15.8 MB 514.8 kB/s eta 0:00:12\n",
      "   ------------------------- -------------- 9.9/15.8 MB 515.6 kB/s eta 0:00:12\n",
      "   ------------------------- -------------- 9.9/15.8 MB 515.6 kB/s eta 0:00:12\n",
      "   ------------------------- -------------- 10.0/15.8 MB 515.7 kB/s eta 0:00:12\n",
      "   ------------------------- -------------- 10.0/15.8 MB 515.0 kB/s eta 0:00:12\n",
      "   ------------------------- -------------- 10.0/15.8 MB 514.9 kB/s eta 0:00:12\n",
      "   ------------------------- -------------- 10.1/15.8 MB 515.8 kB/s eta 0:00:12\n",
      "   ------------------------- -------------- 10.1/15.8 MB 515.5 kB/s eta 0:00:12\n",
      "   ------------------------- -------------- 10.1/15.8 MB 515.3 kB/s eta 0:00:12\n",
      "   ------------------------- -------------- 10.1/15.8 MB 515.2 kB/s eta 0:00:12\n",
      "   ------------------------- -------------- 10.2/15.8 MB 516.3 kB/s eta 0:00:11\n",
      "   ------------------------- -------------- 10.2/15.8 MB 515.8 kB/s eta 0:00:11\n",
      "   ------------------------- -------------- 10.2/15.8 MB 516.1 kB/s eta 0:00:11\n",
      "   ------------------------- -------------- 10.2/15.8 MB 515.9 kB/s eta 0:00:11\n",
      "   ------------------------- -------------- 10.3/15.8 MB 515.9 kB/s eta 0:00:11\n",
      "   ------------------------- -------------- 10.3/15.8 MB 515.9 kB/s eta 0:00:11\n",
      "   -------------------------- ------------- 10.3/15.8 MB 518.4 kB/s eta 0:00:11\n",
      "   -------------------------- ------------- 10.3/15.8 MB 518.0 kB/s eta 0:00:11\n",
      "   -------------------------- ------------- 10.3/15.8 MB 516.8 kB/s eta 0:00:11\n",
      "   -------------------------- ------------- 10.4/15.8 MB 520.8 kB/s eta 0:00:11\n",
      "   -------------------------- ------------- 10.4/15.8 MB 519.6 kB/s eta 0:00:11\n",
      "   -------------------------- ------------- 10.4/15.8 MB 523.7 kB/s eta 0:00:11\n",
      "   -------------------------- ------------- 10.4/15.8 MB 522.9 kB/s eta 0:00:11\n",
      "   -------------------------- ------------- 10.5/15.8 MB 526.7 kB/s eta 0:00:11\n",
      "   -------------------------- ------------- 10.5/15.8 MB 525.9 kB/s eta 0:00:11\n",
      "   -------------------------- ------------- 10.5/15.8 MB 524.6 kB/s eta 0:00:11\n",
      "   -------------------------- ------------- 10.5/15.8 MB 528.9 kB/s eta 0:00:10\n",
      "   -------------------------- ------------- 10.6/15.8 MB 528.0 kB/s eta 0:00:10\n",
      "   -------------------------- ------------- 10.6/15.8 MB 526.7 kB/s eta 0:00:10\n",
      "   -------------------------- ------------- 10.6/15.8 MB 529.7 kB/s eta 0:00:10\n",
      "   -------------------------- ------------- 10.6/15.8 MB 528.0 kB/s eta 0:00:10\n",
      "   --------------------------- ------------ 10.7/15.8 MB 527.6 kB/s eta 0:00:10\n",
      "   --------------------------- ------------ 10.7/15.8 MB 529.3 kB/s eta 0:00:10\n",
      "   --------------------------- ------------ 10.7/15.8 MB 531.9 kB/s eta 0:00:10\n",
      "   --------------------------- ------------ 10.7/15.8 MB 531.4 kB/s eta 0:00:10\n",
      "   --------------------------- ------------ 10.8/15.8 MB 529.7 kB/s eta 0:00:10\n",
      "   --------------------------- ------------ 10.8/15.8 MB 528.8 kB/s eta 0:00:10\n",
      "   --------------------------- ------------ 10.8/15.8 MB 530.6 kB/s eta 0:00:10\n",
      "   --------------------------- ------------ 10.8/15.8 MB 529.2 kB/s eta 0:00:10\n",
      "   --------------------------- ------------ 10.9/15.8 MB 529.3 kB/s eta 0:00:10\n",
      "   --------------------------- ------------ 10.9/15.8 MB 530.6 kB/s eta 0:00:10\n",
      "   --------------------------- ------------ 10.9/15.8 MB 529.3 kB/s eta 0:00:10\n",
      "   --------------------------- ------------ 11.0/15.8 MB 529.7 kB/s eta 0:00:10\n",
      "   --------------------------- ------------ 11.0/15.8 MB 529.7 kB/s eta 0:00:10\n",
      "   --------------------------- ------------ 11.0/15.8 MB 529.7 kB/s eta 0:00:10\n",
      "   --------------------------- ------------ 11.0/15.8 MB 529.7 kB/s eta 0:00:10\n",
      "   --------------------------- ------------ 11.0/15.8 MB 529.7 kB/s eta 0:00:10\n",
      "   --------------------------- ------------ 11.1/15.8 MB 529.7 kB/s eta 0:00:09\n",
      "   ---------------------------- ----------- 11.1/15.8 MB 529.3 kB/s eta 0:00:09\n",
      "   ---------------------------- ----------- 11.1/15.8 MB 530.1 kB/s eta 0:00:09\n",
      "   ---------------------------- ----------- 11.1/15.8 MB 528.4 kB/s eta 0:00:09\n",
      "   ---------------------------- ----------- 11.2/15.8 MB 529.3 kB/s eta 0:00:09\n",
      "   ---------------------------- ----------- 11.2/15.8 MB 528.4 kB/s eta 0:00:09\n",
      "   ---------------------------- ----------- 11.2/15.8 MB 530.1 kB/s eta 0:00:09\n",
      "   ---------------------------- ----------- 11.2/15.8 MB 530.1 kB/s eta 0:00:09\n",
      "   ---------------------------- ----------- 11.2/15.8 MB 528.8 kB/s eta 0:00:09\n",
      "   ---------------------------- ----------- 11.3/15.8 MB 529.7 kB/s eta 0:00:09\n",
      "   ---------------------------- ----------- 11.3/15.8 MB 528.4 kB/s eta 0:00:09\n",
      "   ---------------------------- ----------- 11.3/15.8 MB 529.7 kB/s eta 0:00:09\n",
      "   ---------------------------- ----------- 11.4/15.8 MB 529.7 kB/s eta 0:00:09\n",
      "   ---------------------------- ----------- 11.4/15.8 MB 529.3 kB/s eta 0:00:09\n",
      "   ---------------------------- ----------- 11.4/15.8 MB 529.7 kB/s eta 0:00:09\n",
      "   ---------------------------- ----------- 11.4/15.8 MB 528.4 kB/s eta 0:00:09\n",
      "   ----------------------------- ---------- 11.5/15.8 MB 529.3 kB/s eta 0:00:09\n",
      "   ----------------------------- ---------- 11.5/15.8 MB 529.3 kB/s eta 0:00:09\n",
      "   ----------------------------- ---------- 11.5/15.8 MB 529.2 kB/s eta 0:00:09\n",
      "   ----------------------------- ---------- 11.5/15.8 MB 529.7 kB/s eta 0:00:09\n",
      "   ----------------------------- ---------- 11.6/15.8 MB 529.7 kB/s eta 0:00:09\n",
      "   ----------------------------- ---------- 11.6/15.8 MB 529.7 kB/s eta 0:00:08\n",
      "   ----------------------------- ---------- 11.6/15.8 MB 528.4 kB/s eta 0:00:08\n",
      "   ----------------------------- ---------- 11.6/15.8 MB 529.7 kB/s eta 0:00:08\n",
      "   ----------------------------- ---------- 11.7/15.8 MB 529.7 kB/s eta 0:00:08\n",
      "   ----------------------------- ---------- 11.7/15.8 MB 529.3 kB/s eta 0:00:08\n",
      "   ----------------------------- ---------- 11.7/15.8 MB 530.6 kB/s eta 0:00:08\n",
      "   ----------------------------- ---------- 11.7/15.8 MB 529.3 kB/s eta 0:00:08\n",
      "   ----------------------------- ---------- 11.8/15.8 MB 530.6 kB/s eta 0:00:08\n",
      "   ----------------------------- ---------- 11.8/15.8 MB 530.6 kB/s eta 0:00:08\n",
      "   ----------------------------- ---------- 11.8/15.8 MB 527.1 kB/s eta 0:00:08\n",
      "   ----------------------------- ---------- 11.8/15.8 MB 528.8 kB/s eta 0:00:08\n",
      "   ----------------------------- ---------- 11.8/15.8 MB 528.8 kB/s eta 0:00:08\n",
      "   ----------------------------- ---------- 11.9/15.8 MB 527.6 kB/s eta 0:00:08\n",
      "   ------------------------------ --------- 11.9/15.8 MB 530.6 kB/s eta 0:00:08\n",
      "   ------------------------------ --------- 11.9/15.8 MB 530.6 kB/s eta 0:00:08\n",
      "   ------------------------------ --------- 11.9/15.8 MB 528.4 kB/s eta 0:00:08\n",
      "   ------------------------------ --------- 12.0/15.8 MB 530.6 kB/s eta 0:00:08\n",
      "   ------------------------------ --------- 12.0/15.8 MB 528.4 kB/s eta 0:00:08\n",
      "   ------------------------------ --------- 12.0/15.8 MB 528.8 kB/s eta 0:00:08\n",
      "   ------------------------------ --------- 12.0/15.8 MB 528.8 kB/s eta 0:00:08\n",
      "   ------------------------------ --------- 12.1/15.8 MB 528.9 kB/s eta 0:00:08\n",
      "   ------------------------------ --------- 12.1/15.8 MB 529.7 kB/s eta 0:00:08\n",
      "   ------------------------------ --------- 12.1/15.8 MB 529.7 kB/s eta 0:00:08\n",
      "   ------------------------------ --------- 12.1/15.8 MB 528.0 kB/s eta 0:00:07\n",
      "   ------------------------------ --------- 12.1/15.8 MB 526.3 kB/s eta 0:00:07\n",
      "   ------------------------------ --------- 12.2/15.8 MB 528.4 kB/s eta 0:00:07\n",
      "   ------------------------------ --------- 12.2/15.8 MB 528.0 kB/s eta 0:00:07\n",
      "   ------------------------------ --------- 12.2/15.8 MB 528.8 kB/s eta 0:00:07\n",
      "   ------------------------------- -------- 12.3/15.8 MB 528.0 kB/s eta 0:00:07\n",
      "   ------------------------------- -------- 12.3/15.8 MB 528.0 kB/s eta 0:00:07\n",
      "   ------------------------------- -------- 12.3/15.8 MB 528.0 kB/s eta 0:00:07\n",
      "   ------------------------------- -------- 12.3/15.8 MB 527.6 kB/s eta 0:00:07\n",
      "   ------------------------------- -------- 12.3/15.8 MB 525.8 kB/s eta 0:00:07\n",
      "   ------------------------------- -------- 12.4/15.8 MB 527.6 kB/s eta 0:00:07\n",
      "   ------------------------------- -------- 12.4/15.8 MB 527.6 kB/s eta 0:00:07\n",
      "   ------------------------------- -------- 12.4/15.8 MB 526.7 kB/s eta 0:00:07\n",
      "   ------------------------------- -------- 12.4/15.8 MB 527.6 kB/s eta 0:00:07\n",
      "   ------------------------------- -------- 12.4/15.8 MB 527.6 kB/s eta 0:00:07\n",
      "   ------------------------------- -------- 12.5/15.8 MB 527.1 kB/s eta 0:00:07\n",
      "   ------------------------------- -------- 12.5/15.8 MB 527.1 kB/s eta 0:00:07\n",
      "   ------------------------------- -------- 12.5/15.8 MB 525.9 kB/s eta 0:00:07\n",
      "   ------------------------------- -------- 12.6/15.8 MB 527.1 kB/s eta 0:00:07\n",
      "   ------------------------------- -------- 12.6/15.8 MB 526.7 kB/s eta 0:00:07\n",
      "   ------------------------------- -------- 12.6/15.8 MB 528.0 kB/s eta 0:00:07\n",
      "   ------------------------------- -------- 12.6/15.8 MB 528.0 kB/s eta 0:00:07\n",
      "   -------------------------------- ------- 12.7/15.8 MB 528.9 kB/s eta 0:00:06\n",
      "   -------------------------------- ------- 12.7/15.8 MB 528.4 kB/s eta 0:00:06\n",
      "   -------------------------------- ------- 12.7/15.8 MB 526.7 kB/s eta 0:00:06\n",
      "   -------------------------------- ------- 12.7/15.8 MB 528.9 kB/s eta 0:00:06\n",
      "   -------------------------------- ------- 12.8/15.8 MB 528.0 kB/s eta 0:00:06\n",
      "   -------------------------------- ------- 12.8/15.8 MB 528.4 kB/s eta 0:00:06\n",
      "   -------------------------------- ------- 12.8/15.8 MB 527.6 kB/s eta 0:00:06\n",
      "   -------------------------------- ------- 12.9/15.8 MB 528.0 kB/s eta 0:00:06\n",
      "   -------------------------------- ------- 12.9/15.8 MB 528.4 kB/s eta 0:00:06\n",
      "   -------------------------------- ------- 12.9/15.8 MB 527.6 kB/s eta 0:00:06\n",
      "   -------------------------------- ------- 12.9/15.8 MB 528.4 kB/s eta 0:00:06\n",
      "   -------------------------------- ------- 12.9/15.8 MB 528.4 kB/s eta 0:00:06\n",
      "   -------------------------------- ------- 13.0/15.8 MB 528.4 kB/s eta 0:00:06\n",
      "   -------------------------------- ------- 13.0/15.8 MB 527.1 kB/s eta 0:00:06\n",
      "   -------------------------------- ------- 13.0/15.8 MB 528.0 kB/s eta 0:00:06\n",
      "   -------------------------------- ------- 13.0/15.8 MB 528.4 kB/s eta 0:00:06\n",
      "   --------------------------------- ------ 13.1/15.8 MB 527.1 kB/s eta 0:00:06\n",
      "   --------------------------------- ------ 13.1/15.8 MB 527.1 kB/s eta 0:00:06\n",
      "   --------------------------------- ------ 13.1/15.8 MB 528.0 kB/s eta 0:00:06\n",
      "   --------------------------------- ------ 13.1/15.8 MB 527.1 kB/s eta 0:00:06\n",
      "   --------------------------------- ------ 13.2/15.8 MB 528.0 kB/s eta 0:00:06\n",
      "   --------------------------------- ------ 13.2/15.8 MB 527.1 kB/s eta 0:00:05\n",
      "   --------------------------------- ------ 13.2/15.8 MB 527.6 kB/s eta 0:00:05\n",
      "   --------------------------------- ------ 13.2/15.8 MB 527.1 kB/s eta 0:00:05\n",
      "   --------------------------------- ------ 13.3/15.8 MB 526.7 kB/s eta 0:00:05\n",
      "   --------------------------------- ------ 13.3/15.8 MB 528.0 kB/s eta 0:00:05\n",
      "   --------------------------------- ------ 13.3/15.8 MB 526.3 kB/s eta 0:00:05\n",
      "   --------------------------------- ------ 13.3/15.8 MB 526.3 kB/s eta 0:00:05\n",
      "   --------------------------------- ------ 13.4/15.8 MB 527.6 kB/s eta 0:00:05\n",
      "   --------------------------------- ------ 13.4/15.8 MB 527.1 kB/s eta 0:00:05\n",
      "   --------------------------------- ------ 13.4/15.8 MB 526.7 kB/s eta 0:00:05\n",
      "   --------------------------------- ------ 13.4/15.8 MB 526.7 kB/s eta 0:00:05\n",
      "   ---------------------------------- ----- 13.5/15.8 MB 527.6 kB/s eta 0:00:05\n",
      "   ---------------------------------- ----- 13.5/15.8 MB 527.1 kB/s eta 0:00:05\n",
      "   ---------------------------------- ----- 13.5/15.8 MB 526.7 kB/s eta 0:00:05\n",
      "   ---------------------------------- ----- 13.5/15.8 MB 526.3 kB/s eta 0:00:05\n",
      "   ---------------------------------- ----- 13.6/15.8 MB 528.0 kB/s eta 0:00:05\n",
      "   ---------------------------------- ----- 13.6/15.8 MB 528.0 kB/s eta 0:00:05\n",
      "   ---------------------------------- ----- 13.6/15.8 MB 526.3 kB/s eta 0:00:05\n",
      "   ---------------------------------- ----- 13.6/15.8 MB 526.3 kB/s eta 0:00:05\n",
      "   ---------------------------------- ----- 13.7/15.8 MB 526.7 kB/s eta 0:00:05\n",
      "   ---------------------------------- ----- 13.7/15.8 MB 526.7 kB/s eta 0:00:05\n",
      "   ---------------------------------- ----- 13.7/15.8 MB 525.9 kB/s eta 0:00:05\n",
      "   ---------------------------------- ----- 13.7/15.8 MB 526.3 kB/s eta 0:00:04\n",
      "   ---------------------------------- ----- 13.7/15.8 MB 526.3 kB/s eta 0:00:04\n",
      "   ---------------------------------- ----- 13.8/15.8 MB 527.1 kB/s eta 0:00:04\n",
      "   ---------------------------------- ----- 13.8/15.8 MB 526.7 kB/s eta 0:00:04\n",
      "   ---------------------------------- ----- 13.8/15.8 MB 525.4 kB/s eta 0:00:04\n",
      "   ----------------------------------- ---- 13.9/15.8 MB 526.3 kB/s eta 0:00:04\n",
      "   ----------------------------------- ---- 13.9/15.8 MB 525.9 kB/s eta 0:00:04\n",
      "   ----------------------------------- ---- 13.9/15.8 MB 526.7 kB/s eta 0:00:04\n",
      "   ----------------------------------- ---- 13.9/15.8 MB 525.9 kB/s eta 0:00:04\n",
      "   ----------------------------------- ---- 14.0/15.8 MB 525.9 kB/s eta 0:00:04\n",
      "   ----------------------------------- ---- 14.0/15.8 MB 527.1 kB/s eta 0:00:04\n",
      "   ----------------------------------- ---- 14.0/15.8 MB 527.1 kB/s eta 0:00:04\n",
      "   ----------------------------------- ---- 14.0/15.8 MB 526.3 kB/s eta 0:00:04\n",
      "   ----------------------------------- ---- 14.0/15.8 MB 525.9 kB/s eta 0:00:04\n",
      "   ----------------------------------- ---- 14.1/15.8 MB 525.8 kB/s eta 0:00:04\n",
      "   ----------------------------------- ---- 14.1/15.8 MB 528.0 kB/s eta 0:00:04\n",
      "   ----------------------------------- ---- 14.1/15.8 MB 528.0 kB/s eta 0:00:04\n",
      "   ----------------------------------- ---- 14.2/15.8 MB 525.4 kB/s eta 0:00:04\n",
      "   ----------------------------------- ---- 14.2/15.8 MB 525.0 kB/s eta 0:00:04\n",
      "   ----------------------------------- ---- 14.2/15.8 MB 525.8 kB/s eta 0:00:04\n",
      "   ----------------------------------- ---- 14.2/15.8 MB 525.0 kB/s eta 0:00:04\n",
      "   ------------------------------------ --- 14.2/15.8 MB 525.9 kB/s eta 0:00:03\n",
      "   ------------------------------------ --- 14.2/15.8 MB 525.9 kB/s eta 0:00:03\n",
      "   ------------------------------------ --- 14.3/15.8 MB 525.0 kB/s eta 0:00:03\n",
      "   ------------------------------------ --- 14.3/15.8 MB 524.2 kB/s eta 0:00:03\n",
      "   ------------------------------------ --- 14.3/15.8 MB 524.6 kB/s eta 0:00:03\n",
      "   ------------------------------------ --- 14.3/15.8 MB 524.6 kB/s eta 0:00:03\n",
      "   ------------------------------------ --- 14.4/15.8 MB 523.3 kB/s eta 0:00:03\n",
      "   ------------------------------------ --- 14.4/15.8 MB 522.9 kB/s eta 0:00:03\n",
      "   ------------------------------------ --- 14.4/15.8 MB 522.9 kB/s eta 0:00:03\n",
      "   ------------------------------------ --- 14.4/15.8 MB 522.1 kB/s eta 0:00:03\n",
      "   ------------------------------------ --- 14.5/15.8 MB 524.6 kB/s eta 0:00:03\n",
      "   ------------------------------------ --- 14.5/15.8 MB 523.3 kB/s eta 0:00:03\n",
      "   ------------------------------------ --- 14.5/15.8 MB 524.6 kB/s eta 0:00:03\n",
      "   ------------------------------------ --- 14.5/15.8 MB 523.7 kB/s eta 0:00:03\n",
      "   ------------------------------------ --- 14.6/15.8 MB 523.7 kB/s eta 0:00:03\n",
      "   ------------------------------------ --- 14.6/15.8 MB 523.7 kB/s eta 0:00:03\n",
      "   ------------------------------------ --- 14.6/15.8 MB 523.8 kB/s eta 0:00:03\n",
      "   ------------------------------------- -- 14.6/15.8 MB 523.8 kB/s eta 0:00:03\n",
      "   ------------------------------------- -- 14.6/15.8 MB 523.4 kB/s eta 0:00:03\n",
      "   ------------------------------------- -- 14.7/15.8 MB 524.2 kB/s eta 0:00:03\n",
      "   ------------------------------------- -- 14.7/15.8 MB 524.2 kB/s eta 0:00:03\n",
      "   ------------------------------------- -- 14.7/15.8 MB 523.3 kB/s eta 0:00:03\n",
      "   ------------------------------------- -- 14.8/15.8 MB 523.8 kB/s eta 0:00:03\n",
      "   ------------------------------------- -- 14.8/15.8 MB 523.3 kB/s eta 0:00:02\n",
      "   ------------------------------------- -- 14.8/15.8 MB 523.8 kB/s eta 0:00:02\n",
      "   ------------------------------------- -- 14.8/15.8 MB 522.9 kB/s eta 0:00:02\n",
      "   ------------------------------------- -- 14.8/15.8 MB 522.9 kB/s eta 0:00:02\n",
      "   ------------------------------------- -- 14.9/15.8 MB 523.8 kB/s eta 0:00:02\n",
      "   ------------------------------------- -- 14.9/15.8 MB 522.9 kB/s eta 0:00:02\n",
      "   ------------------------------------- -- 14.9/15.8 MB 523.4 kB/s eta 0:00:02\n",
      "   ------------------------------------- -- 14.9/15.8 MB 523.4 kB/s eta 0:00:02\n",
      "   ------------------------------------- -- 15.0/15.8 MB 522.1 kB/s eta 0:00:02\n",
      "   ------------------------------------- -- 15.0/15.8 MB 522.9 kB/s eta 0:00:02\n",
      "   ------------------------------------- -- 15.0/15.8 MB 522.1 kB/s eta 0:00:02\n",
      "   -------------------------------------- - 15.1/15.8 MB 522.9 kB/s eta 0:00:02\n",
      "   -------------------------------------- - 15.1/15.8 MB 522.9 kB/s eta 0:00:02\n",
      "   -------------------------------------- - 15.1/15.8 MB 521.3 kB/s eta 0:00:02\n",
      "   -------------------------------------- - 15.1/15.8 MB 522.9 kB/s eta 0:00:02\n",
      "   -------------------------------------- - 15.1/15.8 MB 522.9 kB/s eta 0:00:02\n",
      "   -------------------------------------- - 15.2/15.8 MB 522.1 kB/s eta 0:00:02\n",
      "   -------------------------------------- - 15.2/15.8 MB 522.9 kB/s eta 0:00:02\n",
      "   -------------------------------------- - 15.2/15.8 MB 522.1 kB/s eta 0:00:02\n",
      "   -------------------------------------- - 15.2/15.8 MB 522.5 kB/s eta 0:00:02\n",
      "   -------------------------------------- - 15.2/15.8 MB 522.5 kB/s eta 0:00:02\n",
      "   -------------------------------------- - 15.3/15.8 MB 522.1 kB/s eta 0:00:01\n",
      "   -------------------------------------- - 15.3/15.8 MB 523.8 kB/s eta 0:00:01\n",
      "   -------------------------------------- - 15.3/15.8 MB 523.8 kB/s eta 0:00:01\n",
      "   -------------------------------------- - 15.4/15.8 MB 522.5 kB/s eta 0:00:01\n",
      "   -------------------------------------- - 15.4/15.8 MB 523.3 kB/s eta 0:00:01\n",
      "   -------------------------------------- - 15.4/15.8 MB 521.7 kB/s eta 0:00:01\n",
      "   ---------------------------------------  15.4/15.8 MB 522.9 kB/s eta 0:00:01\n",
      "   ---------------------------------------  15.4/15.8 MB 522.9 kB/s eta 0:00:01\n",
      "   ---------------------------------------  15.5/15.8 MB 523.3 kB/s eta 0:00:01\n",
      "   ---------------------------------------  15.5/15.8 MB 523.3 kB/s eta 0:00:01\n",
      "   ---------------------------------------  15.5/15.8 MB 522.5 kB/s eta 0:00:01\n",
      "   ---------------------------------------  15.6/15.8 MB 523.3 kB/s eta 0:00:01\n",
      "   ---------------------------------------  15.6/15.8 MB 522.9 kB/s eta 0:00:01\n",
      "   ---------------------------------------  15.6/15.8 MB 522.9 kB/s eta 0:00:01\n",
      "   ---------------------------------------  15.6/15.8 MB 522.9 kB/s eta 0:00:01\n",
      "   ---------------------------------------  15.7/15.8 MB 522.1 kB/s eta 0:00:01\n",
      "   ---------------------------------------  15.7/15.8 MB 522.9 kB/s eta 0:00:01\n",
      "   ---------------------------------------  15.7/15.8 MB 522.1 kB/s eta 0:00:01\n",
      "   ---------------------------------------  15.7/15.8 MB 521.7 kB/s eta 0:00:01\n",
      "   ---------------------------------------  15.8/15.8 MB 523.3 kB/s eta 0:00:01\n",
      "   ---------------------------------------  15.8/15.8 MB 521.7 kB/s eta 0:00:01\n",
      "   ---------------------------------------  15.8/15.8 MB 522.1 kB/s eta 0:00:01\n",
      "   ---------------------------------------  15.8/15.8 MB 522.1 kB/s eta 0:00:01\n",
      "   ---------------------------------------  15.8/15.8 MB 521.3 kB/s eta 0:00:01\n",
      "   ---------------------------------------  15.8/15.8 MB 521.3 kB/s eta 0:00:01\n",
      "   ---------------------------------------- 15.8/15.8 MB 518.9 kB/s eta 0:00:00\n",
      "Installing collected packages: numpy\n",
      "Successfully installed numpy-1.26.4\n"
     ]
    }
   ],
   "source": [
    "! pip install numpy"
   ]
  },
  {
   "cell_type": "code",
   "execution_count": 1,
   "metadata": {},
   "outputs": [],
   "source": [
    "class CaesarsCipher():\n",
    "    def encode(self, text, shift):\n",
    "        words = text.split(' ')\n",
    "\n",
    "        unicode_list = [self.get_unicode_list_from_text(x) for x in words]\n",
    "        shift_unicode_list = [self.get_shift_unicode(x, shift) for x in unicode_list]\n",
    "        encoded_list = [self.get_text_from_unicode(x) for x in shift_unicode_list]\n",
    "        return ' '.join([''.join(x) for x in encoded_list])\n",
    "\n",
    "    def decode(self, text, shift):\n",
    "        words = text.split(' ')\n",
    "\n",
    "        unicode_list = [self.get_unicode_list_from_text(x) for x in words]\n",
    "        shift_unicode_list = [self.get_reverse_shift_unicode(x, shift) for x in unicode_list]\n",
    "        encoded_list = [self.get_text_from_unicode(x) for x in shift_unicode_list]\n",
    "        return ' '.join([''.join(x) for x in encoded_list])\n",
    "\n",
    "    def get_unicode_list_from_text(self, text):\n",
    "        return [ord(x) for x in text if 'а' <= x <= 'я' or 'А' <= x <= 'Я']\n",
    "\n",
    "    def get_text_from_unicode(self, unicode_list):\n",
    "        return [chr(x) for x in unicode_list]\n",
    "\n",
    "    def get_shift_unicode(self, unicode_list, shift):\n",
    "        return [(x - ord('а') + int(shift)) % 32 + ord('а') if 'а' <= chr(x) <= 'я'\n",
    "                else (x - ord('А') + int(shift)) % 32 + ord('А') if 'А' <= chr(x) <= 'Я'\n",
    "                else x for x in unicode_list]\n",
    "\n",
    "    def get_reverse_shift_unicode(self, unicode_list, shift):\n",
    "        return [(x - ord('а') - int(shift)) % 32 + ord('а') if 'а' <= chr(x) <= 'я'\n",
    "                else (x - ord('А') - int(shift)) % 32 + ord('А') if 'А' <= chr(x) <= 'Я'\n",
    "                else x for x in unicode_list]\n",
    "\n",
    "\n",
    "caesar_cipher = CaesarsCipher()\n",
    "# text_to_encode = \"Пример текста для шифра Цезаря\"\n",
    "# shift_value = 3\n",
    "# encoded_text = caesar_cipher.encode(text_to_encode, shift_value)\n",
    "# shift_value = 3\n",
    "# decoded_text = caesar_cipher.decode(encoded_text, shift_value)\n",
    "\n",
    "# print(\"Original Text:\", text_to_encode)\n",
    "# print(\"Encoded Text:\", encoded_text)\n",
    "# print(\"Decoded Text:\", decoded_text)"
   ]
  },
  {
   "cell_type": "code",
   "execution_count": 2,
   "metadata": {},
   "outputs": [
    {
     "name": "stdout",
     "output_type": "stream",
     "text": [
      "Значение статистики хи-квадрат: 0.25\n"
     ]
    }
   ],
   "source": [
    "import numpy as np\n",
    "\n",
    "def chi_square(observed, expected):\n",
    "\n",
    "    differences = observed - expected\n",
    "\n",
    "    chi_square_statistic = np.sum(differences**2 / expected)\n",
    "\n",
    "    return chi_square_statistic\n",
    "\n",
    "observed_frequencies = 3\n",
    "expected_frequencies = 4\n",
    "\n",
    "result = chi_square(observed_frequencies, expected_frequencies)\n",
    "print(\"Значение статистики хи-квадрат:\", result)"
   ]
  },
  {
   "cell_type": "code",
   "execution_count": 32,
   "metadata": {},
   "outputs": [],
   "source": [
    "ru_list = ['а', 'б', 'в', 'г', 'д', 'е', 'ё', 'ж', 'з', 'и', 'й', 'к', 'л', 'м', 'н', 'о', 'п', 'р', 'с', 'т', 'у', 'ф', 'х', 'ц', 'ч', 'ш', 'щ', 'ъ', 'ы', 'ь', 'э', 'ю', 'я', 'А', 'Б', 'В', 'Г', 'Д', 'Е', 'Ё', 'Ж', 'З', 'И', 'Й', 'К', 'Л', 'М', 'Н', 'О', 'П', 'Р', 'С', 'Т', 'У', 'Ф', 'Х', 'Ц', 'Ч', 'Ш', 'Щ', 'Ъ', 'Ы', 'Ь', 'Э', 'Ю', 'Я']\n"
   ]
  },
  {
   "cell_type": "code",
   "execution_count": 22,
   "metadata": {},
   "outputs": [],
   "source": [
    "def cryptanalysis(text):\n",
    "\n",
    "    def calculate_symbol_frequencies(text):\n",
    "        symbol_frequencies = {}\n",
    "\n",
    "        for symbol in text:\n",
    "            if symbol in symbol_frequencies:\n",
    "                symbol_frequencies[symbol] += 1\n",
    "            else:\n",
    "                symbol_frequencies[symbol] = 1\n",
    "\n",
    "        return symbol_frequencies\n",
    "\n",
    "    ru_list = ['а', 'б', 'в', 'г', 'д', 'е', 'ё', 'ж', 'з', 'и', 'й', 'к', 'л', 'м', 'н', 'о', 'п', 'р', 'с', 'т', 'у', 'ф', 'х', 'ц', 'ч', 'ш', 'щ', 'ъ', 'ы', 'ь', 'э', 'ю', 'я', 'А', 'Б', 'В', 'Г', 'Д', 'Е', 'Ё', 'Ж', 'З', 'И', 'Й', 'К', 'Л', 'М', 'Н', 'О', 'П', 'Р', 'С', 'Т', 'У', 'Ф', 'Х', 'Ц', 'Ч', 'Ш', 'Щ', 'Ъ', 'Ы', 'Ь', 'Э', 'Ю', 'Я']\n",
    "\n",
    "    \n",
    "    expected_frequencies = {'А': 0.0801, 'Б': 0.0180, 'В': 0.0344, 'Г': 0.0169, 'Д': 0.0258, 'Е': 0.0716, 'Ё': 0.0004,\n",
    "                             'Ж': 0.0082, 'З': 0.0165, 'И': 0.0668, 'Й': 0.0108, 'К': 0.0286, 'Л': 0.0380, 'М': 0.0253,\n",
    "                             'Н': 0.0671, 'О': 0.0976, 'П': 0.0303, 'Р': 0.0497, 'С': 0.0543, 'Т': 0.0735, 'У': 0.0294,\n",
    "                             'Ф': 0.0025, 'Х': 0.0093, 'Ц': 0.0048, 'Ч': 0.0141, 'Ш': 0.0069, 'Щ': 0.0055, 'Ъ': 0.0004,\n",
    "                             'Ы': 0.0189, 'Ь': 0.0166, 'Э': 0.0031, 'Ю': 0.0054, 'Я': 0.0190, ' ': 0.1700}\n",
    "\n",
    "\n",
    "    encode_freq = np.array([expected_frequencies[x] for x in ru_list])\n",
    "    result = {}\n",
    "\n",
    "    for shift in range(1, 26):\n",
    "        decoded_text = caesar_cipher.decode(text, shift)\n",
    "        print(decoded_text)\n",
    "        list_decode = list(decoded_text)\n",
    "        decod_freq = calculate_symbol_frequencies(decoded_text)\n",
    "        decod_freq = np.array([decod_freq[x] for x in list_decode])\n",
    "        print(f'encode_freq: {encode_freq}, decod_freq: {decod_freq}')\n",
    "        result[shift] = chi_square(encode_freq, decod_freq)\n",
    "        \n",
    "    return result"
   ]
  },
  {
   "cell_type": "code",
   "execution_count": 20,
   "metadata": {},
   "outputs": [],
   "source": [
    "context = CaesarsCipher(3)"
   ]
  },
  {
   "cell_type": "code",
   "execution_count": 21,
   "metadata": {},
   "outputs": [
    {
     "data": {
      "text/plain": [
       "'ПРИВЕТ'"
      ]
     },
     "execution_count": 21,
     "metadata": {},
     "output_type": "execute_result"
    }
   ],
   "source": [
    "context.decode(context.encode('ПРИВЕТ'))\n"
   ]
  },
  {
   "cell_type": "code",
   "execution_count": 33,
   "metadata": {},
   "outputs": [],
   "source": [
    "text = '  АБВ '"
   ]
  },
  {
   "cell_type": "code",
   "execution_count": 34,
   "metadata": {},
   "outputs": [
    {
     "data": {
      "text/plain": [
       "'АБВ'"
      ]
     },
     "execution_count": 34,
     "metadata": {},
     "output_type": "execute_result"
    }
   ],
   "source": [
    "text.upper().strip()"
   ]
  },
  {
   "cell_type": "code",
   "execution_count": 36,
   "metadata": {},
   "outputs": [],
   "source": [
    "temp = None"
   ]
  },
  {
   "cell_type": "code",
   "execution_count": 1,
   "metadata": {},
   "outputs": [],
   "source": [
    "import os"
   ]
  },
  {
   "cell_type": "code",
   "execution_count": 6,
   "metadata": {},
   "outputs": [
    {
     "data": {
      "text/plain": [
       "['Cipher',\n",
       " 'input_text.txt',\n",
       " 'main.py',\n",
       " 'test.ipynb',\n",
       " 'view',\n",
       " '__init_.py',\n",
       " '__pycache__']"
      ]
     },
     "execution_count": 6,
     "metadata": {},
     "output_type": "execute_result"
    }
   ],
   "source": [
    "os.listdir()"
   ]
  },
  {
   "cell_type": "code",
   "execution_count": 9,
   "metadata": {},
   "outputs": [
    {
     "data": {
      "text/plain": [
       "True"
      ]
     },
     "execution_count": 9,
     "metadata": {},
     "output_type": "execute_result"
    }
   ],
   "source": [
    "import webbrowser\n",
    "\n",
    "\n",
    "webbrowser.open(\".input_text.txt\")"
   ]
  },
  {
   "cell_type": "code",
   "execution_count": 1,
   "metadata": {},
   "outputs": [],
   "source": [
    "from PyQt5.QtWidgets import QTableWidgetItem\n"
   ]
  },
  {
   "cell_type": "code",
   "execution_count": 4,
   "metadata": {},
   "outputs": [
    {
     "data": {
      "text/plain": [
       "1"
      ]
     },
     "execution_count": 4,
     "metadata": {},
     "output_type": "execute_result"
    }
   ],
   "source": [
    "import os\n",
    "os.system(\"explorer.exe './Cipher/'\")"
   ]
  },
  {
   "cell_type": "code",
   "execution_count": 11,
   "metadata": {},
   "outputs": [
    {
     "ename": "ModuleNotFoundError",
     "evalue": "No module named 'PyQt5'",
     "output_type": "error",
     "traceback": [
      "\u001b[1;31m---------------------------------------------------------------------------\u001b[0m",
      "\u001b[1;31mModuleNotFoundError\u001b[0m                       Traceback (most recent call last)",
      "Cell \u001b[1;32mIn[11], line 1\u001b[0m\n\u001b[1;32m----> 1\u001b[0m \u001b[38;5;28;01mfrom\u001b[39;00m \u001b[38;5;21;01mPyQt5\u001b[39;00m\u001b[38;5;21;01m.\u001b[39;00m\u001b[38;5;21;01mQtCore\u001b[39;00m \u001b[38;5;28;01mimport\u001b[39;00m \u001b[38;5;241m*\u001b[39m\n",
      "\u001b[1;31mModuleNotFoundError\u001b[0m: No module named 'PyQt5'"
     ]
    }
   ],
   "source": [
    "from PyQt5.QtCore import *"
   ]
  },
  {
   "cell_type": "code",
   "execution_count": null,
   "metadata": {},
   "outputs": [],
   "source": [
    "# file_browser_ui.py\n",
    "  \n",
    "from PyQt5.QtCore import *\n",
    "from PyQt5.QtGui import *\n",
    "from PyQt5.QtWidgets import *\n",
    "  \n",
    "import sys\n",
    "  \n",
    "# A simple widget consisting of a QLabel, a QLineEdit and a \n",
    "# QPushButton. The class could be implemented in a separate \n",
    "# script called, say, file_browser.py\n",
    "class FileBrowser(QWidget):\n",
    "  \n",
    "    OpenFile = 0\n",
    "    OpenFiles = 1\n",
    "    OpenDirectory = 2\n",
    "    SaveFile = 3\n",
    "    \n",
    "    def __init__(self, title, mode=OpenFile):\n",
    "        QWidget.__init__(self)\n",
    "        layout = QHBoxLayout()\n",
    "        self.setLayout(layout)\n",
    "        self.browser_mode = mode\n",
    "        self.filter_name = 'All files (*.*)'\n",
    "        self.dirpath = QDir.currentPath()\n",
    "        \n",
    "        self.label = QLabel()\n",
    "        self.label.setText(title)\n",
    "        self.label.setFixedWidth(65)\n",
    "        self.label.setFont(QFont(\"Arial\",weight=QFont.Bold))\n",
    "        self.label.setAlignment(Qt.AlignLeft | Qt.AlignVCenter)\n",
    "        layout.addWidget(self.label)\n",
    "        \n",
    "        self.lineEdit = QLineEdit(self)\n",
    "        self.lineEdit.setFixedWidth(180)\n",
    "        \n",
    "        layout.addWidget(self.lineEdit)\n",
    "        \n",
    "        self.button = QPushButton('Search')\n",
    "        self.button.clicked.connect(self.getFile)\n",
    "        layout.addWidget(self.button)\n",
    "        layout.addStretch()\n",
    "    #--------------------------------------------------------------------\n",
    "    # For example, \n",
    "    #    setMode(FileBrowser.OpenFile)\n",
    "    #    setMode(FileBrowser.OpenFiles)\n",
    "    #    setMode(FileBrowser.OpenDirectory)\n",
    "    #    setMode(FileBrowser.SaveFile)\n",
    "    def setMode(mode):\n",
    "        self.mode = mode\n",
    "    #--------------------------------------------------------------------\n",
    "    # For example, \n",
    "    #    setFileFilter('Images (*.png *.xpm *.jpg)')\n",
    "    def setFileFilter(text):\n",
    "        self.filter_name = text        \n",
    "    #--------------------------------------------------------------------\n",
    "    def setDefaultDir(path):\n",
    "        self.dirpath = path\n",
    "    #--------------------------------------------------------------------\n",
    "    def getFile(self):\n",
    "        self.filepaths = []\n",
    "        \n",
    "        if self.browser_mode == FileBrowser.OpenFile:\n",
    "            self.filepaths.append(QFileDialog.getOpenFileName(self, caption='Choose File',\n",
    "                                                    directory=self.dirpath,\n",
    "                                                    filter=self.filter_name)[0])\n",
    "        elif self.browser_mode == FileBrowser.OpenFiles:\n",
    "            self.filepaths.extend(QFileDialog.getOpenFileNames(self, caption='Choose Files',\n",
    "                                                    directory=self.dirpath,\n",
    "                                                    filter=self.filter_name)[0])\n",
    "        elif self.browser_mode == FileBrowser.OpenDirectory:\n",
    "            self.filepaths.append(QFileDialog.getExistingDirectory(self, caption='Choose Directory',\n",
    "                                                    directory=self.dirpath))\n",
    "        else:\n",
    "            options = QFileDialog.Options()\n",
    "            if sys.platform == 'darwin':\n",
    "                options |= QFileDialog.DontUseNativeDialog\n",
    "            self.filepaths.append(QFileDialog.getSaveFileName(self, caption='Save/Save As',\n",
    "                                                    directory=self.dirpath,\n",
    "                                                    filter=self.filter_name,\n",
    "                                                    options=options)[0])\n",
    "        if len(self.filepaths) == 0:\n",
    "            return\n",
    "        elif len(self.filepaths) == 1:\n",
    "            self.lineEdit.setText(self.filepaths[0])\n",
    "        else:\n",
    "            self.lineEdit.setText(\",\".join(self.filepaths))    \n",
    "    #--------------------------------------------------------------------\n",
    "    def setLabelWidth(self, width):\n",
    "        self.label.setFixedWidth(width)    \n",
    "    #--------------------------------------------------------------------\n",
    "    def setlineEditWidth(self, width):\n",
    "        self.lineEdit.setFixedWidth(width)\n",
    "    #--------------------------------------------------------------------\n",
    "    def getPaths(self):\n",
    "        return self.filepaths\n",
    "#-------------------------------------------------------------------\n",
    "  \n",
    "  \n",
    "class Demo(QDialog):\n",
    "    def __init__(self, parent=None):\n",
    "        QDialog.__init__(self, parent)\n",
    "        \n",
    "        # Ensure our window stays in front and give it a title\n",
    "        self.setWindowFlags(Qt.WindowStaysOnTopHint)\n",
    "        self.setWindowTitle(\"File Browsing Dialog\")\n",
    "        self.setFixedSize(400, 300)\n",
    "        \n",
    "        # Create and assign the main (vertical) layout.\n",
    "        vlayout = QVBoxLayout()\n",
    "        self.setLayout(vlayout)    \n",
    "        \n",
    "        self.fileBrowserPanel(vlayout)\n",
    "        vlayout.addStretch()\n",
    "        self.addButtonPanel(vlayout)\n",
    "        self.show()\n",
    "    #--------------------------------------------------------------------\n",
    "    def fileBrowserPanel(self, parentLayout):\n",
    "        vlayout = QVBoxLayout()\n",
    "    \t\n",
    "        self.fileFB = FileBrowser('Open File', FileBrowser.OpenFile)\n",
    "        self.filesFB = FileBrowser('Open Files', FileBrowser.OpenFiles)\n",
    "        self.dirFB = FileBrowser('Open Dir', FileBrowser.OpenDirectory)\n",
    "        self.saveFB = FileBrowser('Save File', FileBrowser.SaveFile)\n",
    "        \n",
    "        vlayout.addWidget(self.fileFB)\n",
    "        vlayout.addWidget(self.filesFB)\n",
    "        vlayout.addWidget(self.dirFB)\n",
    "        vlayout.addWidget(self.saveFB)\n",
    "        \n",
    "        vlayout.addStretch()\n",
    "        parentLayout.addLayout(vlayout)\n",
    "    #--------------------------------------------------------------------\n",
    "    def addButtonPanel(self, parentLayout):\n",
    "        hlayout = QHBoxLayout()\n",
    "        hlayout.addStretch()\n",
    "        \n",
    "        self.button = QPushButton(\"OK\")\n",
    "        self.button.clicked.connect(self.buttonAction)\n",
    "        hlayout.addWidget(self.button)\n",
    "        parentLayout.addLayout(hlayout)\n",
    "    #--------------------------------------------------------------------\n",
    "    def buttonAction(self):\n",
    "        print(self.fileFB.getPaths())\n",
    "        print(self.filesFB.getPaths())\n",
    "        print(self.dirFB.getPaths())\n",
    "        print(self.saveFB.getPaths())\n",
    "        \n",
    "    #--------------------------------------------------------------------\n",
    "  \n",
    "# ========================================================                "
   ]
  },
  {
   "cell_type": "code",
   "execution_count": 62,
   "metadata": {},
   "outputs": [],
   "source": [
    "class Context:\n",
    "    def set_text(self):\n",
    "        self.text = 'text'\n",
    "\n",
    "    def del_text(self):\n",
    "        if hasattr(self, 'text'):\n",
    "            del self.text\n",
    "\n",
    "    def has_text(self):\n",
    "        print(hasattr(self, 'text'))\n",
    "    "
   ]
  },
  {
   "cell_type": "code",
   "execution_count": 63,
   "metadata": {},
   "outputs": [],
   "source": [
    "context = Context()"
   ]
  },
  {
   "cell_type": "code",
   "execution_count": 69,
   "metadata": {},
   "outputs": [],
   "source": [
    "context.set_text()"
   ]
  },
  {
   "cell_type": "code",
   "execution_count": 72,
   "metadata": {},
   "outputs": [
    {
     "name": "stdout",
     "output_type": "stream",
     "text": [
      "False\n"
     ]
    }
   ],
   "source": [
    "context.has_text()"
   ]
  },
  {
   "cell_type": "code",
   "execution_count": 71,
   "metadata": {},
   "outputs": [],
   "source": [
    "context.del_text()"
   ]
  },
  {
   "cell_type": "code",
   "execution_count": 47,
   "metadata": {},
   "outputs": [
    {
     "data": {
      "text/plain": [
       "False"
      ]
     },
     "execution_count": 47,
     "metadata": {},
     "output_type": "execute_result"
    }
   ],
   "source": [
    "hasattr(context, 'text')"
   ]
  },
  {
   "cell_type": "code",
   "execution_count": 38,
   "metadata": {},
   "outputs": [
    {
     "name": "stdout",
     "output_type": "stream",
     "text": [
      "1\n"
     ]
    }
   ],
   "source": [
    "if temp == None:\n",
    "    print(1)"
   ]
  },
  {
   "cell_type": "code",
   "execution_count": 19,
   "metadata": {},
   "outputs": [],
   "source": [
    "class CaesarsCipher():\n",
    "\n",
    "    def __init__(self, shift):\n",
    "        self.shift = shift\n",
    "\n",
    "    def encode(self, text):\n",
    "        words = text.split(' ')\n",
    "\n",
    "        unicode_list = [self.get_unicode_list_from_text(x) for x in words]\n",
    "        shift_unicode_list = [self.get_shift_unicode(x, self.shift) for x in unicode_list]\n",
    "        encoded_list = [self.get_text_from_unicode(x) for x in shift_unicode_list]\n",
    "        return ' '.join([''.join(x) for x in encoded_list])\n",
    "    \n",
    "    def decode(self, text):\n",
    "        words = text.split(' ')\n",
    "\n",
    "        unicode_list = [self.get_unicode_list_from_text(x) for x in words]\n",
    "        shift_unicode_list = [self.get_reverse_shift_unicode(x, self.shift) for x in unicode_list]\n",
    "        encoded_list = [self.get_text_from_unicode(x) for x in shift_unicode_list]\n",
    "        return ' '.join([''.join(x) for x in encoded_list])\n",
    "    \n",
    "    def get_unicode_list_from_text(self, text):\n",
    "        return [ord(x) for x in text if 'А' <= x <= 'Я']\n",
    "\n",
    "    def get_text_from_unicode(self, unicode_list):\n",
    "        return [chr(x) for x in unicode_list]\n",
    "\n",
    "    def get_shift_unicode(self, unicode_list, shift):\n",
    "        return [(x - ord('А') + shift) % 32 + ord('А') if 'А' <= chr(x) <= 'Я'\n",
    "                else x for x in unicode_list]\n",
    "\n",
    "    def get_reverse_shift_unicode(self, unicode_list, shift):\n",
    "        return [(x - ord('А') - shift) % 32 + ord('А') if 'А' <= chr(x) <= 'Я'\n",
    "                else x for x in unicode_list]\n",
    "    "
   ]
  },
  {
   "cell_type": "code",
   "execution_count": 34,
   "metadata": {},
   "outputs": [
    {
     "name": "stdout",
     "output_type": "stream",
     "text": [
      "ciphertext не зашифрованный: ПРИВЕТ, ТЫ КТО ТАКОЙ Я НЕ ПОНЯЛ ЧТО ТЫ ТУТ ДЕЛАЕШЬ\n",
      "ciphertext зашифрованный: ЩЪТМПЬ ЬЕ ФЬШ ЬКФШУ Й ЧП ЩШЧЙХ БЬШ ЬЕ ЬЭЬ ОПХКПВЖ\n",
      "Decrypted text: ПРИВЕТ ТЫ КТО ТАКОЙ Я НЕ ПОНЯЛ ЧТО ТЫ ТУТ ДЕЛАЕШЬ\n",
      "Key: 10\n"
     ]
    }
   ],
   "source": [
    "FREQUENCIES = {\n",
    "    'А': 0.08, 'Б': 0.016, 'В': 0.045, 'Г': 0.017, 'Д': 0.03, 'Е': 0.085,\n",
    "    'Ж': 0.01, 'З': 0.016, 'И': 0.073, 'Й': 0.012, 'К': 0.034, 'Л': 0.044,\n",
    "    'М': 0.032, 'Н': 0.067, 'О': 0.11, 'П': 0.028, 'Р': 0.047, 'С': 0.054,\n",
    "    'Т': 0.063, 'У': 0.026, 'Ф': 0.0026, 'Х': 0.0094, 'Ц': 0.0048, 'Ч': 0.014,\n",
    "    'Ш': 0.007, 'Щ': 0.0036, 'Ъ': 0.00037, 'Ы': 0.019, 'Ь': 0.017, 'Э': 0.0032,\n",
    "    'Ю': 0.0064, 'Я': 0.020\n",
    "}\n",
    "\n",
    "def calculate_fitness(text):\n",
    "    fitness = 0\n",
    "    for letter, frequency in FREQUENCIES.items():\n",
    "        text_frequency = text.count(letter) / len(text)\n",
    "        fitness += abs(frequency - text_frequency)\n",
    "    return fitness\n",
    "\n",
    "\n",
    "\n",
    "def decrypt_caesar(ciphertext, key):\n",
    "    alphabet = 'АБВГДЕЖЗИЙКЛМНОПРСТУФХЦЧШЩЪЫЬЭЮЯ'\n",
    "    decrypted_text = ''\n",
    "    for char in ciphertext:\n",
    "        if char in alphabet:\n",
    "            new_index = (alphabet.index(char) - key) % 32\n",
    "            decrypted_text += alphabet[new_index]\n",
    "        else:\n",
    "            decrypted_text += char\n",
    "    return decrypted_text\n",
    "\n",
    "def break_caesar(ciphertext):\n",
    "    cipher = CaesarsCipher()\n",
    "\n",
    "    best_fit = float('inf')\n",
    "    best_text = ''\n",
    "    best_key = 0\n",
    "    for key in range(1, 33):  # Теперь перебираем 33 возможных ключа\n",
    "        decrypted_text = cipher.decode(ciphertext, key)\n",
    "        fitness = calculate_fitness(decrypted_text)\n",
    "        if fitness < best_fit:\n",
    "            best_fit = fitness\n",
    "            best_text = decrypted_text\n",
    "            best_key = key\n",
    "    return best_text, best_key\n",
    "\n",
    "cipher = CaesarsCipher()\n",
    "ciphertext = 'ПРИВЕТ, ТЫ КТО ТАКОЙ Я НЕ ПОНЯЛ ЧТО ТЫ ТУТ ДЕЛАЕШЬ'\n",
    "print(f'ciphertext не зашифрованный: {ciphertext}')\n",
    "\n",
    "# Ваш зашифрованный текст\n",
    "ciphertext = cipher.encode(ciphertext, 10)\n",
    "print(f'ciphertext зашифрованный: {ciphertext}')\n",
    "# Предполагаем, что функция calculate_fitness уже обновлена для работы с полным алфавитом\n",
    "\n",
    "decrypted_text, key = break_caesar(ciphertext)\n",
    "print(f\"Decrypted text: {decrypted_text}\\nKey: {key}\")\n"
   ]
  },
  {
   "cell_type": "code",
   "execution_count": 35,
   "metadata": {},
   "outputs": [],
   "source": [
    "from BaseСipher import BaseСipher\n",
    "\n",
    "class VigenereCipher(BaseСipher):\n",
    "\n",
    "    def __init__(self):\n",
    "        self.alphabet = 'АБВГДЕЖЗИЙКЛМНОПРСТУФХЦЧШЩЪЫЬЭЮЯ'\n",
    "        self.alphabet_size = len(self.alphabet)\n",
    "\n",
    "    def encode(self, text, keyword):\n",
    "        def shift_character(char, shift):\n",
    "            if char in self.alphabet:\n",
    "                char_index = self.alphabet.index(char)\n",
    "                return self.alphabet[(char_index + shift) % self.alphabet_size]\n",
    "            else:\n",
    "                return char\n",
    "\n",
    "        keyword_repeated = (keyword * (len(text) // len(keyword) + 1))[:len(text)]\n",
    "        encoded_text = ''\n",
    "\n",
    "        for char, key_char in zip(text, keyword_repeated):\n",
    "            shift = self.alphabet.index(key_char)\n",
    "            encoded_text += shift_character(char, shift)\n",
    "\n",
    "        return encoded_text\n",
    "\n",
    "    def decode(self, text, keyword):\n",
    "        def shift_character(char, shift):\n",
    "            if char in self.alphabet:\n",
    "                char_index = self.alphabet.index(char)\n",
    "                return self.alphabet[(char_index - shift) % self.alphabet_size]\n",
    "            else:\n",
    "                return char\n",
    "\n",
    "        keyword_repeated = (keyword * (len(text) // len(keyword) + 1))[:len(text)]\n",
    "        decoded_text = ''\n",
    "\n",
    "        for char, key_char in zip(text, keyword_repeated):\n",
    "            shift = self.alphabet.index(key_char)\n",
    "            decoded_text += shift_character(char, shift)\n",
    "\n",
    "        return decoded_text\n"
   ]
  },
  {
   "cell_type": "code",
   "execution_count": 40,
   "metadata": {},
   "outputs": [
    {
     "name": "stdout",
     "output_type": "stream",
     "text": [
      "Исходный текст: БЕЗОПАСНОСТЬ\n",
      "Ключ: ДАР\n",
      "Зашифрованный текст: ЕЕЧТПРХНЮХТМ\n",
      "Дешифрованный текст: БЕЗОПАСНОСТЬ\n"
     ]
    }
   ],
   "source": [
    "# Используем класс для шифрования\n",
    "cipher = VigenereCipher()\n",
    "text = \"БЕЗОПАСНОСТЬ\"\n",
    "keyword = \"ДАР\"\n",
    "encoded_text = cipher.encode(text, keyword)\n",
    "decoded_text = cipher.decode(encoded_text, keyword)\n",
    "\n",
    "print(f\"Исходный текст: {text}\")\n",
    "print(f\"Ключ: {keyword}\")\n",
    "print(f\"Зашифрованный текст: {encoded_text}\")\n",
    "print(f\"Дешифрованный текст: {decoded_text}\")\n"
   ]
  },
  {
   "cell_type": "code",
   "execution_count": 41,
   "metadata": {},
   "outputs": [],
   "source": [
    "class BitwiseCipher:\n",
    "    def encode(self, text):\n",
    "        encoded = \"\"\n",
    "        for char in text:\n",
    "            char_code = ord(char)\n",
    "            left_byte = char_code >> 8\n",
    "            right_byte = char_code & 0xFF\n",
    "            encoded_char_code = ((left_byte ^ right_byte) << 8) | left_byte\n",
    "            encoded += chr(encoded_char_code)\n",
    "        return encoded\n",
    "\n",
    "    def decode(self, text):\n",
    "        decoded = \"\"\n",
    "        for char in text:\n",
    "            char_code = ord(char)\n",
    "            left_byte = char_code >> 8\n",
    "            right_byte = char_code & 0xFF\n",
    "            decoded_char_code = (right_byte << 8) | (left_byte ^ right_byte)\n",
    "            decoded += chr(decoded_char_code)\n",
    "        return decoded\n"
   ]
  },
  {
   "cell_type": "code",
   "execution_count": 46,
   "metadata": {},
   "outputs": [
    {
     "name": "stdout",
     "output_type": "stream",
     "text": [
      "текст: ПРИВЕТ, ТЫ КТО ТАКОЙ Я НЕ ПОНЯЛ ЧТО ТЫ ТУТ ДЕЛАЕШЬ\n",
      "Зашифрованный текст: ᬄ␄ᰄᘄᄄ☄Ⰰ ☄⼄ Ḅ☄ᨄ ☄ᐄḄᨄᴄ ⬄ ᤄᄄ ᬄᨄᤄ⬄ἄ ⌄☄ᨄ ☄⼄ ☄✄☄ ငᄄἄᐄᄄⰄ⠄\n",
      "Расшифрованный текст: ПРИВЕТ, ТЫ КТО ТАКОЙ Я НЕ ПОНЯЛ ЧТО ТЫ ТУТ ДЕЛАЕШЬ\n",
      "Тест пройден успешно.\n"
     ]
    }
   ],
   "source": [
    "# Создаём экземпляр класса BitwiseCipher\n",
    "cipher = BitwiseCipher()\n",
    "\n",
    "# Тестовый текст для шифрования и расшифрования\n",
    "test_text = \"ПРИВЕТ, ТЫ КТО ТАКОЙ Я НЕ ПОНЯЛ ЧТО ТЫ ТУТ ДЕЛАЕШЬ\"\n",
    "print(f\"текст: {test_text}\")\n",
    "\n",
    "# Выполняем шифрование\n",
    "encoded_text = cipher.encode(test_text)\n",
    "print(f\"Зашифрованный текст: {encoded_text}\")\n",
    "\n",
    "# Выполняем расшифрование\n",
    "decoded_text = cipher.decode(encoded_text)\n",
    "print(f\"Расшифрованный текст: {decoded_text}\")\n",
    "\n",
    "# Проверяем, соответствует ли расшифрованный текст исходному\n",
    "assert test_text == decoded_text, \"Расшифрованный текст не совпадает с исходным!\"\n",
    "print(\"Тест пройден успешно.\")\n"
   ]
  }
 ],
 "metadata": {
  "kernelspec": {
   "display_name": "Python 3",
   "language": "python",
   "name": "python3"
  },
  "language_info": {
   "codemirror_mode": {
    "name": "ipython",
    "version": 3
   },
   "file_extension": ".py",
   "mimetype": "text/x-python",
   "name": "python",
   "nbconvert_exporter": "python",
   "pygments_lexer": "ipython3",
   "version": "3.11.1"
  }
 },
 "nbformat": 4,
 "nbformat_minor": 2
}
